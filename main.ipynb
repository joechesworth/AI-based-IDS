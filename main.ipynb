{
 "cells": [
  {
   "cell_type": "code",
   "execution_count": 3,
   "id": "878de510-7fc9-490e-b598-ffc4e496f2e3",
   "metadata": {},
   "outputs": [],
   "source": [
    "import numpy as np\n",
    "import pandas as pd\n",
    "import matplotlib.pyplot as plt\n",
    "import seaborn as sns\n",
    "from matplotlib.colors import ListedColormap\n",
    "from sklearn.model_selection import train_test_split\n",
    "from sklearn.preprocessing import StandardScaler\n",
    "from sklearn.metrics import classification_report, accuracy_score, confusion_matrix\n",
    "from sklearn.preprocessing import LabelEncoder\n",
    "from sklearn.metrics import accuracy_score, f1_score, roc_curve, auc\n",
    "from sklearn.ensemble import RandomForestClassifier, GradientBoostingClassifier\n",
    "from sklearn.linear_model import LogisticRegression\n",
    "from sklearn.naive_bayes import GaussianNB\n",
    "from IPython.display import display\n",
    "from sklearn.svm import SVC\n",
    "from sklearn import metrics\n",
    "from tensorflow.keras.models import Sequential\n",
    "from tensorflow.keras.layers import Dense\n",
    "import time"
   ]
  },
  {
   "cell_type": "code",
   "execution_count": 4,
   "id": "a6fe5564-545a-4353-9ac1-42799c5d0a39",
   "metadata": {},
   "outputs": [
    {
     "name": "stderr",
     "output_type": "stream",
     "text": [
      "C:\\Users\\joech\\AppData\\Local\\Temp\\ipykernel_19232\\3646423395.py:4: DtypeWarning: Columns (1,3,47) have mixed types. Specify dtype option on import or set low_memory=False.\n",
      "  dfs.append(pd.read_csv(path.format(i), header = None))\n",
      "C:\\Users\\joech\\AppData\\Local\\Temp\\ipykernel_19232\\3646423395.py:4: DtypeWarning: Columns (3,39,47) have mixed types. Specify dtype option on import or set low_memory=False.\n",
      "  dfs.append(pd.read_csv(path.format(i), header = None))\n"
     ]
    }
   ],
   "source": [
    "dfs = []\n",
    "for i in range(1,5):\n",
    "    path = 'UNSW-NB15_{}.csv'  # 4 csv files\n",
    "    dfs.append(pd.read_csv(path.format(i), header = None))\n",
    "main_ds = pd.concat(dfs).reset_index(drop=True)  # concat all to single ds"
   ]
  },
  {
   "cell_type": "code",
   "execution_count": 5,
   "id": "0706139e-7284-4c9a-83c8-1abae3cc4247",
   "metadata": {},
   "outputs": [
    {
     "data": {
      "text/html": [
       "<div>\n",
       "<style scoped>\n",
       "    .dataframe tbody tr th:only-of-type {\n",
       "        vertical-align: middle;\n",
       "    }\n",
       "\n",
       "    .dataframe tbody tr th {\n",
       "        vertical-align: top;\n",
       "    }\n",
       "\n",
       "    .dataframe thead th {\n",
       "        text-align: right;\n",
       "    }\n",
       "</style>\n",
       "<table border=\"1\" class=\"dataframe\">\n",
       "  <thead>\n",
       "    <tr style=\"text-align: right;\">\n",
       "      <th></th>\n",
       "      <th>0</th>\n",
       "      <th>1</th>\n",
       "      <th>2</th>\n",
       "      <th>3</th>\n",
       "      <th>4</th>\n",
       "      <th>5</th>\n",
       "      <th>6</th>\n",
       "      <th>7</th>\n",
       "      <th>8</th>\n",
       "      <th>9</th>\n",
       "      <th>...</th>\n",
       "      <th>39</th>\n",
       "      <th>40</th>\n",
       "      <th>41</th>\n",
       "      <th>42</th>\n",
       "      <th>43</th>\n",
       "      <th>44</th>\n",
       "      <th>45</th>\n",
       "      <th>46</th>\n",
       "      <th>47</th>\n",
       "      <th>48</th>\n",
       "    </tr>\n",
       "  </thead>\n",
       "  <tbody>\n",
       "    <tr>\n",
       "      <th>0</th>\n",
       "      <td>59.166.0.0</td>\n",
       "      <td>1390</td>\n",
       "      <td>149.171.126.6</td>\n",
       "      <td>53</td>\n",
       "      <td>udp</td>\n",
       "      <td>CON</td>\n",
       "      <td>0.001055</td>\n",
       "      <td>132</td>\n",
       "      <td>164</td>\n",
       "      <td>31</td>\n",
       "      <td>...</td>\n",
       "      <td>0</td>\n",
       "      <td>3</td>\n",
       "      <td>7</td>\n",
       "      <td>1</td>\n",
       "      <td>3</td>\n",
       "      <td>1</td>\n",
       "      <td>1</td>\n",
       "      <td>1</td>\n",
       "      <td>NaN</td>\n",
       "      <td>0</td>\n",
       "    </tr>\n",
       "    <tr>\n",
       "      <th>1</th>\n",
       "      <td>59.166.0.0</td>\n",
       "      <td>33661</td>\n",
       "      <td>149.171.126.9</td>\n",
       "      <td>1024</td>\n",
       "      <td>udp</td>\n",
       "      <td>CON</td>\n",
       "      <td>0.036133</td>\n",
       "      <td>528</td>\n",
       "      <td>304</td>\n",
       "      <td>31</td>\n",
       "      <td>...</td>\n",
       "      <td>0</td>\n",
       "      <td>2</td>\n",
       "      <td>4</td>\n",
       "      <td>2</td>\n",
       "      <td>3</td>\n",
       "      <td>1</td>\n",
       "      <td>1</td>\n",
       "      <td>2</td>\n",
       "      <td>NaN</td>\n",
       "      <td>0</td>\n",
       "    </tr>\n",
       "    <tr>\n",
       "      <th>2</th>\n",
       "      <td>59.166.0.6</td>\n",
       "      <td>1464</td>\n",
       "      <td>149.171.126.7</td>\n",
       "      <td>53</td>\n",
       "      <td>udp</td>\n",
       "      <td>CON</td>\n",
       "      <td>0.001119</td>\n",
       "      <td>146</td>\n",
       "      <td>178</td>\n",
       "      <td>31</td>\n",
       "      <td>...</td>\n",
       "      <td>0</td>\n",
       "      <td>12</td>\n",
       "      <td>8</td>\n",
       "      <td>1</td>\n",
       "      <td>2</td>\n",
       "      <td>2</td>\n",
       "      <td>1</td>\n",
       "      <td>1</td>\n",
       "      <td>NaN</td>\n",
       "      <td>0</td>\n",
       "    </tr>\n",
       "    <tr>\n",
       "      <th>3</th>\n",
       "      <td>59.166.0.5</td>\n",
       "      <td>3593</td>\n",
       "      <td>149.171.126.5</td>\n",
       "      <td>53</td>\n",
       "      <td>udp</td>\n",
       "      <td>CON</td>\n",
       "      <td>0.001209</td>\n",
       "      <td>132</td>\n",
       "      <td>164</td>\n",
       "      <td>31</td>\n",
       "      <td>...</td>\n",
       "      <td>0</td>\n",
       "      <td>6</td>\n",
       "      <td>9</td>\n",
       "      <td>1</td>\n",
       "      <td>1</td>\n",
       "      <td>1</td>\n",
       "      <td>1</td>\n",
       "      <td>1</td>\n",
       "      <td>NaN</td>\n",
       "      <td>0</td>\n",
       "    </tr>\n",
       "    <tr>\n",
       "      <th>4</th>\n",
       "      <td>59.166.0.3</td>\n",
       "      <td>49664</td>\n",
       "      <td>149.171.126.0</td>\n",
       "      <td>53</td>\n",
       "      <td>udp</td>\n",
       "      <td>CON</td>\n",
       "      <td>0.001169</td>\n",
       "      <td>146</td>\n",
       "      <td>178</td>\n",
       "      <td>31</td>\n",
       "      <td>...</td>\n",
       "      <td>0</td>\n",
       "      <td>7</td>\n",
       "      <td>9</td>\n",
       "      <td>1</td>\n",
       "      <td>1</td>\n",
       "      <td>1</td>\n",
       "      <td>1</td>\n",
       "      <td>1</td>\n",
       "      <td>NaN</td>\n",
       "      <td>0</td>\n",
       "    </tr>\n",
       "    <tr>\n",
       "      <th>...</th>\n",
       "      <td>...</td>\n",
       "      <td>...</td>\n",
       "      <td>...</td>\n",
       "      <td>...</td>\n",
       "      <td>...</td>\n",
       "      <td>...</td>\n",
       "      <td>...</td>\n",
       "      <td>...</td>\n",
       "      <td>...</td>\n",
       "      <td>...</td>\n",
       "      <td>...</td>\n",
       "      <td>...</td>\n",
       "      <td>...</td>\n",
       "      <td>...</td>\n",
       "      <td>...</td>\n",
       "      <td>...</td>\n",
       "      <td>...</td>\n",
       "      <td>...</td>\n",
       "      <td>...</td>\n",
       "      <td>...</td>\n",
       "      <td>...</td>\n",
       "    </tr>\n",
       "    <tr>\n",
       "      <th>2540042</th>\n",
       "      <td>59.166.0.5</td>\n",
       "      <td>33094</td>\n",
       "      <td>149.171.126.7</td>\n",
       "      <td>43433</td>\n",
       "      <td>tcp</td>\n",
       "      <td>FIN</td>\n",
       "      <td>0.087306</td>\n",
       "      <td>320</td>\n",
       "      <td>1828</td>\n",
       "      <td>31</td>\n",
       "      <td>...</td>\n",
       "      <td></td>\n",
       "      <td>1</td>\n",
       "      <td>2</td>\n",
       "      <td>3</td>\n",
       "      <td>3</td>\n",
       "      <td>1</td>\n",
       "      <td>1</td>\n",
       "      <td>3</td>\n",
       "      <td>NaN</td>\n",
       "      <td>0</td>\n",
       "    </tr>\n",
       "    <tr>\n",
       "      <th>2540043</th>\n",
       "      <td>59.166.0.7</td>\n",
       "      <td>20848</td>\n",
       "      <td>149.171.126.4</td>\n",
       "      <td>21</td>\n",
       "      <td>tcp</td>\n",
       "      <td>CON</td>\n",
       "      <td>0.365058</td>\n",
       "      <td>456</td>\n",
       "      <td>346</td>\n",
       "      <td>31</td>\n",
       "      <td>...</td>\n",
       "      <td>2</td>\n",
       "      <td>2</td>\n",
       "      <td>2</td>\n",
       "      <td>2</td>\n",
       "      <td>2</td>\n",
       "      <td>2</td>\n",
       "      <td>2</td>\n",
       "      <td>2</td>\n",
       "      <td>NaN</td>\n",
       "      <td>0</td>\n",
       "    </tr>\n",
       "    <tr>\n",
       "      <th>2540044</th>\n",
       "      <td>59.166.0.3</td>\n",
       "      <td>21511</td>\n",
       "      <td>149.171.126.9</td>\n",
       "      <td>21</td>\n",
       "      <td>tcp</td>\n",
       "      <td>CON</td>\n",
       "      <td>6.335154</td>\n",
       "      <td>1802</td>\n",
       "      <td>2088</td>\n",
       "      <td>31</td>\n",
       "      <td>...</td>\n",
       "      <td>2</td>\n",
       "      <td>2</td>\n",
       "      <td>2</td>\n",
       "      <td>4</td>\n",
       "      <td>2</td>\n",
       "      <td>2</td>\n",
       "      <td>2</td>\n",
       "      <td>2</td>\n",
       "      <td>NaN</td>\n",
       "      <td>0</td>\n",
       "    </tr>\n",
       "    <tr>\n",
       "      <th>2540045</th>\n",
       "      <td>59.166.0.9</td>\n",
       "      <td>35433</td>\n",
       "      <td>149.171.126.0</td>\n",
       "      <td>80</td>\n",
       "      <td>tcp</td>\n",
       "      <td>CON</td>\n",
       "      <td>2.200934</td>\n",
       "      <td>3498</td>\n",
       "      <td>166054</td>\n",
       "      <td>31</td>\n",
       "      <td>...</td>\n",
       "      <td></td>\n",
       "      <td>1</td>\n",
       "      <td>1</td>\n",
       "      <td>2</td>\n",
       "      <td>4</td>\n",
       "      <td>2</td>\n",
       "      <td>2</td>\n",
       "      <td>2</td>\n",
       "      <td>NaN</td>\n",
       "      <td>0</td>\n",
       "    </tr>\n",
       "    <tr>\n",
       "      <th>2540046</th>\n",
       "      <td>175.45.176.0</td>\n",
       "      <td>17293</td>\n",
       "      <td>149.171.126.17</td>\n",
       "      <td>110</td>\n",
       "      <td>tcp</td>\n",
       "      <td>CON</td>\n",
       "      <td>0.942984</td>\n",
       "      <td>574</td>\n",
       "      <td>676</td>\n",
       "      <td>62</td>\n",
       "      <td>...</td>\n",
       "      <td></td>\n",
       "      <td>1</td>\n",
       "      <td>1</td>\n",
       "      <td>2</td>\n",
       "      <td>4</td>\n",
       "      <td>2</td>\n",
       "      <td>2</td>\n",
       "      <td>2</td>\n",
       "      <td>Exploits</td>\n",
       "      <td>1</td>\n",
       "    </tr>\n",
       "  </tbody>\n",
       "</table>\n",
       "<p>2540047 rows × 49 columns</p>\n",
       "</div>"
      ],
      "text/plain": [
       "                   0      1               2      3    4    5         6     7   \\\n",
       "0          59.166.0.0   1390   149.171.126.6     53  udp  CON  0.001055   132   \n",
       "1          59.166.0.0  33661   149.171.126.9   1024  udp  CON  0.036133   528   \n",
       "2          59.166.0.6   1464   149.171.126.7     53  udp  CON  0.001119   146   \n",
       "3          59.166.0.5   3593   149.171.126.5     53  udp  CON  0.001209   132   \n",
       "4          59.166.0.3  49664   149.171.126.0     53  udp  CON  0.001169   146   \n",
       "...               ...    ...             ...    ...  ...  ...       ...   ...   \n",
       "2540042    59.166.0.5  33094   149.171.126.7  43433  tcp  FIN  0.087306   320   \n",
       "2540043    59.166.0.7  20848   149.171.126.4     21  tcp  CON  0.365058   456   \n",
       "2540044    59.166.0.3  21511   149.171.126.9     21  tcp  CON  6.335154  1802   \n",
       "2540045    59.166.0.9  35433   149.171.126.0     80  tcp  CON  2.200934  3498   \n",
       "2540046  175.45.176.0  17293  149.171.126.17    110  tcp  CON  0.942984   574   \n",
       "\n",
       "             8   9   ...  39  40  41 42  43  44  45  46        47  48  \n",
       "0           164  31  ...   0   3   7  1   3   1   1   1       NaN   0  \n",
       "1           304  31  ...   0   2   4  2   3   1   1   2       NaN   0  \n",
       "2           178  31  ...   0  12   8  1   2   2   1   1       NaN   0  \n",
       "3           164  31  ...   0   6   9  1   1   1   1   1       NaN   0  \n",
       "4           178  31  ...   0   7   9  1   1   1   1   1       NaN   0  \n",
       "...         ...  ..  ...  ..  ..  .. ..  ..  ..  ..  ..       ...  ..  \n",
       "2540042    1828  31  ...       1   2  3   3   1   1   3       NaN   0  \n",
       "2540043     346  31  ...   2   2   2  2   2   2   2   2       NaN   0  \n",
       "2540044    2088  31  ...   2   2   2  4   2   2   2   2       NaN   0  \n",
       "2540045  166054  31  ...       1   1  2   4   2   2   2       NaN   0  \n",
       "2540046     676  62  ...       1   1  2   4   2   2   2  Exploits   1  \n",
       "\n",
       "[2540047 rows x 49 columns]"
      ]
     },
     "execution_count": 5,
     "metadata": {},
     "output_type": "execute_result"
    }
   ],
   "source": [
    "main_ds # print all data"
   ]
  },
  {
   "cell_type": "code",
   "execution_count": 6,
   "id": "9acd7447-9559-4640-b493-eccc89e5f88c",
   "metadata": {},
   "outputs": [],
   "source": [
    "features_ds = pd.read_csv('UNSW_features.csv', encoding = 'ISO-8859-1') # features ds"
   ]
  },
  {
   "cell_type": "code",
   "execution_count": 7,
   "id": "75b6a8bb-a796-4188-a2f6-70edf3eca41e",
   "metadata": {},
   "outputs": [],
   "source": [
    "features_ds['Name'] = features_ds['Name'].apply(lambda x: x.strip().replace(' ', '').lower()) # lower case column names and removing spaces"
   ]
  },
  {
   "cell_type": "code",
   "execution_count": 8,
   "id": "baec3519-814a-4213-afbf-47a111bb8e53",
   "metadata": {},
   "outputs": [
    {
     "data": {
      "text/html": [
       "<div>\n",
       "<style scoped>\n",
       "    .dataframe tbody tr th:only-of-type {\n",
       "        vertical-align: middle;\n",
       "    }\n",
       "\n",
       "    .dataframe tbody tr th {\n",
       "        vertical-align: top;\n",
       "    }\n",
       "\n",
       "    .dataframe thead th {\n",
       "        text-align: right;\n",
       "    }\n",
       "</style>\n",
       "<table border=\"1\" class=\"dataframe\">\n",
       "  <thead>\n",
       "    <tr style=\"text-align: right;\">\n",
       "      <th></th>\n",
       "      <th>No.</th>\n",
       "      <th>Name</th>\n",
       "      <th>Type</th>\n",
       "      <th>Description</th>\n",
       "    </tr>\n",
       "  </thead>\n",
       "  <tbody>\n",
       "    <tr>\n",
       "      <th>0</th>\n",
       "      <td>1</td>\n",
       "      <td>srcip</td>\n",
       "      <td>nominal</td>\n",
       "      <td>Source IP address</td>\n",
       "    </tr>\n",
       "    <tr>\n",
       "      <th>1</th>\n",
       "      <td>2</td>\n",
       "      <td>sport</td>\n",
       "      <td>integer</td>\n",
       "      <td>Source port number</td>\n",
       "    </tr>\n",
       "    <tr>\n",
       "      <th>2</th>\n",
       "      <td>3</td>\n",
       "      <td>dstip</td>\n",
       "      <td>nominal</td>\n",
       "      <td>Destination IP address</td>\n",
       "    </tr>\n",
       "    <tr>\n",
       "      <th>3</th>\n",
       "      <td>4</td>\n",
       "      <td>dsport</td>\n",
       "      <td>integer</td>\n",
       "      <td>Destination port number</td>\n",
       "    </tr>\n",
       "    <tr>\n",
       "      <th>4</th>\n",
       "      <td>5</td>\n",
       "      <td>proto</td>\n",
       "      <td>nominal</td>\n",
       "      <td>Transaction protocol</td>\n",
       "    </tr>\n",
       "  </tbody>\n",
       "</table>\n",
       "</div>"
      ],
      "text/plain": [
       "   No.    Name    Type               Description\n",
       "0    1   srcip  nominal        Source IP address\n",
       "1    2   sport  integer       Source port number\n",
       "2    3   dstip  nominal   Destination IP address\n",
       "3    4  dsport  integer  Destination port number\n",
       "4    5   proto  nominal     Transaction protocol"
      ]
     },
     "execution_count": 8,
     "metadata": {},
     "output_type": "execute_result"
    }
   ],
   "source": [
    "features_ds.head()"
   ]
  },
  {
   "cell_type": "code",
   "execution_count": 9,
   "id": "adcd633b-8955-4f22-96f4-b885872f608c",
   "metadata": {},
   "outputs": [],
   "source": [
    "main_ds.columns = features_ds['Name'] #adding features headings to the main dataset"
   ]
  },
  {
   "cell_type": "code",
   "execution_count": 10,
   "id": "3f61a3e3-d142-49c7-b191-fba6806efe32",
   "metadata": {},
   "outputs": [
    {
     "data": {
      "text/plain": [
       "(2540047, 49)"
      ]
     },
     "execution_count": 10,
     "metadata": {},
     "output_type": "execute_result"
    }
   ],
   "source": [
    "main_ds.shape"
   ]
  },
  {
   "cell_type": "code",
   "execution_count": 11,
   "id": "2651a79e-4b65-49ee-9536-951d5ff768d2",
   "metadata": {},
   "outputs": [
    {
     "data": {
      "text/html": [
       "<div>\n",
       "<style scoped>\n",
       "    .dataframe tbody tr th:only-of-type {\n",
       "        vertical-align: middle;\n",
       "    }\n",
       "\n",
       "    .dataframe tbody tr th {\n",
       "        vertical-align: top;\n",
       "    }\n",
       "\n",
       "    .dataframe thead th {\n",
       "        text-align: right;\n",
       "    }\n",
       "</style>\n",
       "<table border=\"1\" class=\"dataframe\">\n",
       "  <thead>\n",
       "    <tr style=\"text-align: right;\">\n",
       "      <th>Name</th>\n",
       "      <th>srcip</th>\n",
       "      <th>sport</th>\n",
       "      <th>dstip</th>\n",
       "      <th>dsport</th>\n",
       "      <th>proto</th>\n",
       "      <th>state</th>\n",
       "      <th>dur</th>\n",
       "      <th>sbytes</th>\n",
       "      <th>dbytes</th>\n",
       "      <th>sttl</th>\n",
       "      <th>...</th>\n",
       "      <th>ct_ftp_cmd</th>\n",
       "      <th>ct_srv_src</th>\n",
       "      <th>ct_srv_dst</th>\n",
       "      <th>ct_dst_ltm</th>\n",
       "      <th>ct_src_ltm</th>\n",
       "      <th>ct_src_dport_ltm</th>\n",
       "      <th>ct_dst_sport_ltm</th>\n",
       "      <th>ct_dst_src_ltm</th>\n",
       "      <th>attack_cat</th>\n",
       "      <th>label</th>\n",
       "    </tr>\n",
       "  </thead>\n",
       "  <tbody>\n",
       "    <tr>\n",
       "      <th>0</th>\n",
       "      <td>59.166.0.0</td>\n",
       "      <td>1390</td>\n",
       "      <td>149.171.126.6</td>\n",
       "      <td>53</td>\n",
       "      <td>udp</td>\n",
       "      <td>CON</td>\n",
       "      <td>0.001055</td>\n",
       "      <td>132</td>\n",
       "      <td>164</td>\n",
       "      <td>31</td>\n",
       "      <td>...</td>\n",
       "      <td>0</td>\n",
       "      <td>3</td>\n",
       "      <td>7</td>\n",
       "      <td>1</td>\n",
       "      <td>3</td>\n",
       "      <td>1</td>\n",
       "      <td>1</td>\n",
       "      <td>1</td>\n",
       "      <td>NaN</td>\n",
       "      <td>0</td>\n",
       "    </tr>\n",
       "    <tr>\n",
       "      <th>1</th>\n",
       "      <td>59.166.0.0</td>\n",
       "      <td>33661</td>\n",
       "      <td>149.171.126.9</td>\n",
       "      <td>1024</td>\n",
       "      <td>udp</td>\n",
       "      <td>CON</td>\n",
       "      <td>0.036133</td>\n",
       "      <td>528</td>\n",
       "      <td>304</td>\n",
       "      <td>31</td>\n",
       "      <td>...</td>\n",
       "      <td>0</td>\n",
       "      <td>2</td>\n",
       "      <td>4</td>\n",
       "      <td>2</td>\n",
       "      <td>3</td>\n",
       "      <td>1</td>\n",
       "      <td>1</td>\n",
       "      <td>2</td>\n",
       "      <td>NaN</td>\n",
       "      <td>0</td>\n",
       "    </tr>\n",
       "    <tr>\n",
       "      <th>2</th>\n",
       "      <td>59.166.0.6</td>\n",
       "      <td>1464</td>\n",
       "      <td>149.171.126.7</td>\n",
       "      <td>53</td>\n",
       "      <td>udp</td>\n",
       "      <td>CON</td>\n",
       "      <td>0.001119</td>\n",
       "      <td>146</td>\n",
       "      <td>178</td>\n",
       "      <td>31</td>\n",
       "      <td>...</td>\n",
       "      <td>0</td>\n",
       "      <td>12</td>\n",
       "      <td>8</td>\n",
       "      <td>1</td>\n",
       "      <td>2</td>\n",
       "      <td>2</td>\n",
       "      <td>1</td>\n",
       "      <td>1</td>\n",
       "      <td>NaN</td>\n",
       "      <td>0</td>\n",
       "    </tr>\n",
       "    <tr>\n",
       "      <th>3</th>\n",
       "      <td>59.166.0.5</td>\n",
       "      <td>3593</td>\n",
       "      <td>149.171.126.5</td>\n",
       "      <td>53</td>\n",
       "      <td>udp</td>\n",
       "      <td>CON</td>\n",
       "      <td>0.001209</td>\n",
       "      <td>132</td>\n",
       "      <td>164</td>\n",
       "      <td>31</td>\n",
       "      <td>...</td>\n",
       "      <td>0</td>\n",
       "      <td>6</td>\n",
       "      <td>9</td>\n",
       "      <td>1</td>\n",
       "      <td>1</td>\n",
       "      <td>1</td>\n",
       "      <td>1</td>\n",
       "      <td>1</td>\n",
       "      <td>NaN</td>\n",
       "      <td>0</td>\n",
       "    </tr>\n",
       "    <tr>\n",
       "      <th>4</th>\n",
       "      <td>59.166.0.3</td>\n",
       "      <td>49664</td>\n",
       "      <td>149.171.126.0</td>\n",
       "      <td>53</td>\n",
       "      <td>udp</td>\n",
       "      <td>CON</td>\n",
       "      <td>0.001169</td>\n",
       "      <td>146</td>\n",
       "      <td>178</td>\n",
       "      <td>31</td>\n",
       "      <td>...</td>\n",
       "      <td>0</td>\n",
       "      <td>7</td>\n",
       "      <td>9</td>\n",
       "      <td>1</td>\n",
       "      <td>1</td>\n",
       "      <td>1</td>\n",
       "      <td>1</td>\n",
       "      <td>1</td>\n",
       "      <td>NaN</td>\n",
       "      <td>0</td>\n",
       "    </tr>\n",
       "  </tbody>\n",
       "</table>\n",
       "<p>5 rows × 49 columns</p>\n",
       "</div>"
      ],
      "text/plain": [
       "Name       srcip  sport          dstip dsport proto state       dur  sbytes  \\\n",
       "0     59.166.0.0   1390  149.171.126.6     53   udp   CON  0.001055     132   \n",
       "1     59.166.0.0  33661  149.171.126.9   1024   udp   CON  0.036133     528   \n",
       "2     59.166.0.6   1464  149.171.126.7     53   udp   CON  0.001119     146   \n",
       "3     59.166.0.5   3593  149.171.126.5     53   udp   CON  0.001209     132   \n",
       "4     59.166.0.3  49664  149.171.126.0     53   udp   CON  0.001169     146   \n",
       "\n",
       "Name  dbytes  sttl  ...  ct_ftp_cmd  ct_srv_src  ct_srv_dst ct_dst_ltm  \\\n",
       "0        164    31  ...           0           3           7          1   \n",
       "1        304    31  ...           0           2           4          2   \n",
       "2        178    31  ...           0          12           8          1   \n",
       "3        164    31  ...           0           6           9          1   \n",
       "4        178    31  ...           0           7           9          1   \n",
       "\n",
       "Name  ct_src_ltm  ct_src_dport_ltm  ct_dst_sport_ltm  ct_dst_src_ltm  \\\n",
       "0              3                 1                 1               1   \n",
       "1              3                 1                 1               2   \n",
       "2              2                 2                 1               1   \n",
       "3              1                 1                 1               1   \n",
       "4              1                 1                 1               1   \n",
       "\n",
       "Name  attack_cat  label  \n",
       "0            NaN      0  \n",
       "1            NaN      0  \n",
       "2            NaN      0  \n",
       "3            NaN      0  \n",
       "4            NaN      0  \n",
       "\n",
       "[5 rows x 49 columns]"
      ]
     },
     "execution_count": 11,
     "metadata": {},
     "output_type": "execute_result"
    }
   ],
   "source": [
    "main_ds.head()"
   ]
  },
  {
   "cell_type": "code",
   "execution_count": 12,
   "id": "157ea04f-97ff-43d9-b30d-bdec79489e48",
   "metadata": {},
   "outputs": [],
   "source": [
    "train, test = train_test_split(main_ds, test_size=0.3, random_state=16) # splitting ds into training and testing sets\n",
    "del main_ds # deleting main ds as its not needed"
   ]
  },
  {
   "cell_type": "code",
   "execution_count": 13,
   "id": "bf6c9f14-25b1-4eb3-9287-f7c273d6fee6",
   "metadata": {},
   "outputs": [
    {
     "data": {
      "text/plain": [
       "(1778032, 49)"
      ]
     },
     "execution_count": 13,
     "metadata": {},
     "output_type": "execute_result"
    }
   ],
   "source": [
    "train.shape # size of training ds"
   ]
  },
  {
   "cell_type": "code",
   "execution_count": 14,
   "id": "01ca718b-290c-4ab5-a818-e0c171c2b286",
   "metadata": {},
   "outputs": [
    {
     "data": {
      "text/plain": [
       "(762015, 49)"
      ]
     },
     "execution_count": 14,
     "metadata": {},
     "output_type": "execute_result"
    }
   ],
   "source": [
    "test.shape # size of testing ds"
   ]
  },
  {
   "cell_type": "code",
   "execution_count": 15,
   "id": "d6fafa2f-2874-4225-9dda-e534858a17b9",
   "metadata": {},
   "outputs": [
    {
     "data": {
      "text/plain": [
       "Name\n",
       "srcip                     0\n",
       "sport                     0\n",
       "dstip                     0\n",
       "dsport                    0\n",
       "proto                     0\n",
       "state                     0\n",
       "dur                       0\n",
       "sbytes                    0\n",
       "dbytes                    0\n",
       "sttl                      0\n",
       "dttl                      0\n",
       "sloss                     0\n",
       "dloss                     0\n",
       "service                   0\n",
       "sload                     0\n",
       "dload                     0\n",
       "spkts                     0\n",
       "dpkts                     0\n",
       "swin                      0\n",
       "dwin                      0\n",
       "stcpb                     0\n",
       "dtcpb                     0\n",
       "smeansz                   0\n",
       "dmeansz                   0\n",
       "trans_depth               0\n",
       "res_bdy_len               0\n",
       "sjit                      0\n",
       "djit                      0\n",
       "stime                     0\n",
       "ltime                     0\n",
       "sintpkt                   0\n",
       "dintpkt                   0\n",
       "tcprtt                    0\n",
       "synack                    0\n",
       "ackdat                    0\n",
       "is_sm_ips_ports           0\n",
       "ct_state_ttl              0\n",
       "ct_flw_http_mthd     943876\n",
       "is_ftp_login        1001037\n",
       "ct_ftp_cmd                0\n",
       "ct_srv_src                0\n",
       "ct_srv_dst                0\n",
       "ct_dst_ltm                0\n",
       "ct_src_ltm                0\n",
       "ct_src_dport_ltm          0\n",
       "ct_dst_sport_ltm          0\n",
       "ct_dst_src_ltm            0\n",
       "attack_cat          1552862\n",
       "label                     0\n",
       "dtype: int64"
      ]
     },
     "execution_count": 15,
     "metadata": {},
     "output_type": "execute_result"
    }
   ],
   "source": [
    "train.isnull().sum() # checking for null values"
   ]
  },
  {
   "cell_type": "code",
   "execution_count": 16,
   "id": "5afd6306-43be-4506-bbdc-52b5707781db",
   "metadata": {},
   "outputs": [
    {
     "data": {
      "text/plain": [
       "ct_flw_http_mthd\n",
       "0.0     1634363\n",
       "1.0      131643\n",
       "6.0        5536\n",
       "4.0        4683\n",
       "3.0         508\n",
       "2.0         409\n",
       "5.0         287\n",
       "9.0         172\n",
       "14.0        169\n",
       "12.0         95\n",
       "30.0         40\n",
       "8.0          36\n",
       "16.0         32\n",
       "36.0         25\n",
       "10.0         18\n",
       "25.0         16\n",
       "Name: count, dtype: int64"
      ]
     },
     "execution_count": 16,
     "metadata": {},
     "output_type": "execute_result"
    }
   ],
   "source": [
    "train['ct_flw_http_mthd'] = train.ct_flw_http_mthd.fillna(value=0) # changing all null values in this column to 0\n",
    "train['ct_flw_http_mthd'].value_counts()"
   ]
  },
  {
   "cell_type": "code",
   "execution_count": 17,
   "id": "062d9abe-03ad-47cd-a192-ffde35df21e5",
   "metadata": {},
   "outputs": [
    {
     "data": {
      "text/plain": [
       "is_ftp_login\n",
       "0.0    1747573\n",
       "1.0      30329\n",
       "4.0        109\n",
       "2.0         21\n",
       "Name: count, dtype: int64"
      ]
     },
     "execution_count": 17,
     "metadata": {},
     "output_type": "execute_result"
    }
   ],
   "source": [
    "train['is_ftp_login'] = train.is_ftp_login.fillna(value=0) # changing all null values in this column to 0\n",
    "train['is_ftp_login'].value_counts()"
   ]
  },
  {
   "cell_type": "code",
   "execution_count": 18,
   "id": "f982301e-23d8-4a72-a9a7-b4efbf7b3135",
   "metadata": {},
   "outputs": [
    {
     "data": {
      "text/plain": [
       "attack_cat\n",
       "normal              1552862\n",
       "Generic              150906\n",
       "Exploits              31507\n",
       " Fuzzers              13345\n",
       "DoS                   11433\n",
       " Reconnaissance        8544\n",
       " Fuzzers               3569\n",
       "Analysis               1855\n",
       "Backdoor               1242\n",
       "Reconnaissance         1220\n",
       " Shellcode              904\n",
       "Backdoors               374\n",
       "Shellcode               151\n",
       "Worms                   120\n",
       "Name: count, dtype: int64"
      ]
     },
     "execution_count": 18,
     "metadata": {},
     "output_type": "execute_result"
    }
   ],
   "source": [
    "train['attack_cat'] = train.attack_cat.fillna(value='normal') # changing all null values in this column to 'normal'\n",
    "train['attack_cat'].value_counts()"
   ]
  },
  {
   "cell_type": "code",
   "execution_count": 19,
   "id": "899def92-7942-437f-beb4-e6309592f600",
   "metadata": {},
   "outputs": [
    {
     "data": {
      "text/plain": [
       "Name\n",
       "srcip               0\n",
       "sport               0\n",
       "dstip               0\n",
       "dsport              0\n",
       "proto               0\n",
       "state               0\n",
       "dur                 0\n",
       "sbytes              0\n",
       "dbytes              0\n",
       "sttl                0\n",
       "dttl                0\n",
       "sloss               0\n",
       "dloss               0\n",
       "service             0\n",
       "sload               0\n",
       "dload               0\n",
       "spkts               0\n",
       "dpkts               0\n",
       "swin                0\n",
       "dwin                0\n",
       "stcpb               0\n",
       "dtcpb               0\n",
       "smeansz             0\n",
       "dmeansz             0\n",
       "trans_depth         0\n",
       "res_bdy_len         0\n",
       "sjit                0\n",
       "djit                0\n",
       "stime               0\n",
       "ltime               0\n",
       "sintpkt             0\n",
       "dintpkt             0\n",
       "tcprtt              0\n",
       "synack              0\n",
       "ackdat              0\n",
       "is_sm_ips_ports     0\n",
       "ct_state_ttl        0\n",
       "ct_flw_http_mthd    0\n",
       "is_ftp_login        0\n",
       "ct_ftp_cmd          0\n",
       "ct_srv_src          0\n",
       "ct_srv_dst          0\n",
       "ct_dst_ltm          0\n",
       "ct_src_ltm          0\n",
       "ct_src_dport_ltm    0\n",
       "ct_dst_sport_ltm    0\n",
       "ct_dst_src_ltm      0\n",
       "attack_cat          0\n",
       "label               0\n",
       "dtype: int64"
      ]
     },
     "execution_count": 19,
     "metadata": {},
     "output_type": "execute_result"
    }
   ],
   "source": [
    "train.isnull().sum() # checking for null values again"
   ]
  },
  {
   "cell_type": "code",
   "execution_count": 20,
   "id": "51454ffb-ed5c-40f4-9439-abf5002a6d18",
   "metadata": {},
   "outputs": [
    {
     "data": {
      "text/plain": [
       "Name\n",
       "srcip                object\n",
       "sport                object\n",
       "dstip                object\n",
       "dsport               object\n",
       "proto                object\n",
       "state                object\n",
       "dur                 float64\n",
       "sbytes                int64\n",
       "dbytes                int64\n",
       "sttl                  int64\n",
       "dttl                  int64\n",
       "sloss                 int64\n",
       "dloss                 int64\n",
       "service              object\n",
       "sload               float64\n",
       "dload               float64\n",
       "spkts                 int64\n",
       "dpkts                 int64\n",
       "swin                  int64\n",
       "dwin                  int64\n",
       "stcpb                 int64\n",
       "dtcpb                 int64\n",
       "smeansz               int64\n",
       "dmeansz               int64\n",
       "trans_depth           int64\n",
       "res_bdy_len           int64\n",
       "sjit                float64\n",
       "djit                float64\n",
       "stime                 int64\n",
       "ltime                 int64\n",
       "sintpkt             float64\n",
       "dintpkt             float64\n",
       "tcprtt              float64\n",
       "synack              float64\n",
       "ackdat              float64\n",
       "is_sm_ips_ports       int64\n",
       "ct_state_ttl          int64\n",
       "ct_flw_http_mthd    float64\n",
       "is_ftp_login        float64\n",
       "ct_ftp_cmd           object\n",
       "ct_srv_src            int64\n",
       "ct_srv_dst            int64\n",
       "ct_dst_ltm            int64\n",
       "ct_src_ltm            int64\n",
       "ct_src_dport_ltm      int64\n",
       "ct_dst_sport_ltm      int64\n",
       "ct_dst_src_ltm        int64\n",
       "attack_cat           object\n",
       "label                 int64\n",
       "dtype: object"
      ]
     },
     "execution_count": 20,
     "metadata": {},
     "output_type": "execute_result"
    }
   ],
   "source": [
    "train.dtypes # checking column datatypes"
   ]
  },
  {
   "cell_type": "code",
   "execution_count": 21,
   "id": "7c2f363e-9885-4438-a7cc-b9362c014c3b",
   "metadata": {},
   "outputs": [
    {
     "data": {
      "text/plain": [
       "Index(['ct_ftp_cmd', 'dsport', 'dstip', 'proto', 'service', 'sport', 'srcip',\n",
       "       'state'],\n",
       "      dtype='object', name='Name')"
      ]
     },
     "execution_count": 21,
     "metadata": {},
     "output_type": "execute_result"
    }
   ],
   "source": [
    "num_col = train.select_dtypes(include='number').columns # getting a list of numerical and categorical columns\n",
    "cat_col = train.columns.difference(num_col)\n",
    "cat_col = cat_col[1:]\n",
    "cat_col  "
   ]
  },
  {
   "cell_type": "code",
   "execution_count": 22,
   "id": "e71faa24-d446-4a27-b957-5f38bef47b20",
   "metadata": {},
   "outputs": [],
   "source": [
    "train['ct_ftp_cmd'] = train['ct_ftp_cmd'].replace(to_replace=' ', value=0).astype(int) # this is numerical but it has spaces so removing spaces and converting it to numerical"
   ]
  },
  {
   "cell_type": "code",
   "execution_count": 23,
   "id": "aa12de8f-fffd-4079-bfb4-f0df273a09fc",
   "metadata": {},
   "outputs": [
    {
     "name": "stdout",
     "output_type": "stream",
     "text": [
      "is_sm_ips_ports\n",
      "0    1775116\n",
      "1       2916\n",
      "Name: count, dtype: int64\n"
     ]
    }
   ],
   "source": [
    "print(train['is_sm_ips_ports'].value_counts()) # stated as a binary type so checking values"
   ]
  },
  {
   "cell_type": "code",
   "execution_count": 24,
   "id": "f0a92b92-5189-4894-88c2-a15c94a30c85",
   "metadata": {},
   "outputs": [
    {
     "name": "stdout",
     "output_type": "stream",
     "text": [
      "is_ftp_login\n",
      "0.0    1747573\n",
      "1.0      30329\n",
      "4.0        109\n",
      "2.0         21\n",
      "Name: count, dtype: int64\n"
     ]
    }
   ],
   "source": [
    "print(train['is_ftp_login'].value_counts()) # binary column but contains values of 2 and 4"
   ]
  },
  {
   "cell_type": "code",
   "execution_count": 25,
   "id": "c0fdfb0c-46f8-4d96-be49-efa33cfeb486",
   "metadata": {},
   "outputs": [
    {
     "data": {
      "text/plain": [
       "is_ftp_login\n",
       "0.0    1747573\n",
       "1.0      30459\n",
       "Name: count, dtype: int64"
      ]
     },
     "execution_count": 25,
     "metadata": {},
     "output_type": "execute_result"
    }
   ],
   "source": [
    "train['is_ftp_login'] = train['is_ftp_login'].replace([2, 4], 1) # changing values of 2 and 4 to 1\n",
    "train['is_ftp_login'].value_counts()"
   ]
  },
  {
   "cell_type": "code",
   "execution_count": 26,
   "id": "3365e005-0c20-4a2f-8519-57ec9345c961",
   "metadata": {},
   "outputs": [
    {
     "data": {
      "image/png": "[encoded data removed]",
      "text/plain": [
       "<Figure size 600x400 with 1 Axes>"
      ]
     },
     "metadata": {},
     "output_type": "display_data"
    }
   ],
   "source": [
    "cat = train['label']\n",
    "cat_count = cat.value_counts()\n",
    "plt.figure(figsize = (6,4))\n",
    "plt.pie(cat_count, labels = cat_count.index, autopct = '%1.1f%%', startangle = 140, colors = ['yellow', 'green'])\n",
    "plt.title('Distribution of normal and abnormal behavior')\n",
    "plt.axis('equal')\n",
    "plt.legend(title = '0 = normal, 1 = attack')\n",
    "plt.show()"
   ]
  },
  {
   "cell_type": "code",
   "execution_count": 27,
   "id": "9e053206-1c47-4de6-841b-237a43c6f315",
   "metadata": {},
   "outputs": [
    {
     "name": "stderr",
     "output_type": "stream",
     "text": [
      "C:\\Users\\joech\\AppData\\Local\\Temp\\ipykernel_19232\\3779284462.py:4: MatplotlibDeprecationWarning: The get_cmap function was deprecated in Matplotlib 3.7 and will be removed two minor releases later. Use ``matplotlib.colormaps[name]`` or ``matplotlib.colormaps.get_cmap(obj)`` instead.\n",
      "  colour_map = plt.cm.get_cmap('tab10', len(cat2_count))\n"
     ]
    },
    {
     "data": {
      "image/png": "[encoded data removed]",
      "text/plain": [
       "<Figure size 600x400 with 1 Axes>"
      ]
     },
     "metadata": {},
     "output_type": "display_data"
    }
   ],
   "source": [
    "filter = train[~train['attack_cat'].isin(['normal', 'Generic'])]\n",
    "cat2 = filter['attack_cat']\n",
    "cat2_count = cat2.value_counts()\n",
    "colour_map = plt.cm.get_cmap('tab10', len(cat2_count))\n",
    "colours = [colour_map(i) for i in range(len(cat2_count))]\n",
    "plt.figure(figsize = (6,4))\n",
    "values = np.arange(len(cat2_count))\n",
    "plt.bar(values, cat2_count, color = colours)\n",
    "plt.xticks(values, cat2_count.index, rotation=45, ha='right')\n",
    "plt.title('Distribution of attack categories')\n",
    "plt.xlabel('Categories')\n",
    "plt.ylabel('Count')\n",
    "plt.tight_layout()\n",
    "plt.show()"
   ]
  },
  {
   "cell_type": "markdown",
   "id": "4cd33573-d6c8-4367-bb11-f62477ee19e2",
   "metadata": {},
   "source": [
    "Bar chart of the different attacks used in the dataset without the 'generic' and 'normal' categories as they take up the majority of the network behavior. Just a visualisation of the distribution of unique attacks used."
   ]
  },
  {
   "cell_type": "markdown",
   "id": "46fc10f7-7db9-4e4b-b44a-a4a6a8aa225d",
   "metadata": {},
   "source": [
    "***\n",
    "categorical data = 'proto', 'state', 'service' <br>\n",
    "numerical data = everything else except 'attack_cat' and 'label' which is the target data\n",
    "***"
   ]
  },
  {
   "cell_type": "code",
   "execution_count": 28,
   "id": "3cc5adab-7468-4c60-bb20-57ced993130a",
   "metadata": {},
   "outputs": [],
   "source": [
    "encoder = LabelEncoder()"
   ]
  },
  {
   "cell_type": "code",
   "execution_count": 29,
   "id": "7a5c6e03-ca2e-454e-a457-a0af354eb7cf",
   "metadata": {},
   "outputs": [],
   "source": [
    "encoder.fit(train['proto'])\n",
    "train.proto = encoder.transform(train.proto) # encoding the proto column"
   ]
  },
  {
   "cell_type": "code",
   "execution_count": 30,
   "id": "cdc908d3-9eec-4637-b56b-1a40a3897438",
   "metadata": {},
   "outputs": [],
   "source": [
    "encoder.fit(train['state'])\n",
    "train.state = encoder.transform(train.state) # encoding the state column"
   ]
  },
  {
   "cell_type": "code",
   "execution_count": 31,
   "id": "fb83aa34-8ce7-4905-86cc-95ca83cf96ff",
   "metadata": {},
   "outputs": [],
   "source": [
    "train['service'] = train['service'].replace('-', 'none') # replacing all the - entries in service to none\n",
    "encoder.fit(train['service'])\n",
    "train.service = encoder.transform(train.service) # encoding the service column"
   ]
  },
  {
   "cell_type": "code",
   "execution_count": 32,
   "id": "7a40885e-41a2-4df6-9a11-f4c08a5f4464",
   "metadata": {},
   "outputs": [
    {
     "data": {
      "text/html": [
       "<div>\n",
       "<style scoped>\n",
       "    .dataframe tbody tr th:only-of-type {\n",
       "        vertical-align: middle;\n",
       "    }\n",
       "\n",
       "    .dataframe tbody tr th {\n",
       "        vertical-align: top;\n",
       "    }\n",
       "\n",
       "    .dataframe thead th {\n",
       "        text-align: right;\n",
       "    }\n",
       "</style>\n",
       "<table border=\"1\" class=\"dataframe\">\n",
       "  <thead>\n",
       "    <tr style=\"text-align: right;\">\n",
       "      <th>Name</th>\n",
       "      <th>srcip</th>\n",
       "      <th>sport</th>\n",
       "      <th>dstip</th>\n",
       "      <th>dsport</th>\n",
       "      <th>proto</th>\n",
       "      <th>state</th>\n",
       "      <th>dur</th>\n",
       "      <th>sbytes</th>\n",
       "      <th>dbytes</th>\n",
       "      <th>sttl</th>\n",
       "      <th>...</th>\n",
       "      <th>ct_ftp_cmd</th>\n",
       "      <th>ct_srv_src</th>\n",
       "      <th>ct_srv_dst</th>\n",
       "      <th>ct_dst_ltm</th>\n",
       "      <th>ct_src_ltm</th>\n",
       "      <th>ct_src_dport_ltm</th>\n",
       "      <th>ct_dst_sport_ltm</th>\n",
       "      <th>ct_dst_src_ltm</th>\n",
       "      <th>attack_cat</th>\n",
       "      <th>label</th>\n",
       "    </tr>\n",
       "  </thead>\n",
       "  <tbody>\n",
       "    <tr>\n",
       "      <th>81030</th>\n",
       "      <td>175.45.176.0</td>\n",
       "      <td>5060</td>\n",
       "      <td>149.171.126.18</td>\n",
       "      <td>4569</td>\n",
       "      <td>120</td>\n",
       "      <td>6</td>\n",
       "      <td>0.100437</td>\n",
       "      <td>178</td>\n",
       "      <td>0</td>\n",
       "      <td>254</td>\n",
       "      <td>...</td>\n",
       "      <td>0</td>\n",
       "      <td>2</td>\n",
       "      <td>2</td>\n",
       "      <td>1</td>\n",
       "      <td>1</td>\n",
       "      <td>1</td>\n",
       "      <td>1</td>\n",
       "      <td>1</td>\n",
       "      <td>normal</td>\n",
       "      <td>0</td>\n",
       "    </tr>\n",
       "    <tr>\n",
       "      <th>1969394</th>\n",
       "      <td>149.171.126.15</td>\n",
       "      <td>1043</td>\n",
       "      <td>175.45.176.3</td>\n",
       "      <td>53</td>\n",
       "      <td>120</td>\n",
       "      <td>6</td>\n",
       "      <td>0.000008</td>\n",
       "      <td>264</td>\n",
       "      <td>0</td>\n",
       "      <td>60</td>\n",
       "      <td>...</td>\n",
       "      <td>0</td>\n",
       "      <td>20</td>\n",
       "      <td>20</td>\n",
       "      <td>16</td>\n",
       "      <td>16</td>\n",
       "      <td>16</td>\n",
       "      <td>8</td>\n",
       "      <td>20</td>\n",
       "      <td>normal</td>\n",
       "      <td>0</td>\n",
       "    </tr>\n",
       "    <tr>\n",
       "      <th>541834</th>\n",
       "      <td>59.166.0.8</td>\n",
       "      <td>15265</td>\n",
       "      <td>149.171.126.8</td>\n",
       "      <td>13292</td>\n",
       "      <td>114</td>\n",
       "      <td>5</td>\n",
       "      <td>0.014842</td>\n",
       "      <td>2542</td>\n",
       "      <td>23122</td>\n",
       "      <td>31</td>\n",
       "      <td>...</td>\n",
       "      <td>0</td>\n",
       "      <td>18</td>\n",
       "      <td>6</td>\n",
       "      <td>3</td>\n",
       "      <td>4</td>\n",
       "      <td>1</td>\n",
       "      <td>1</td>\n",
       "      <td>1</td>\n",
       "      <td>normal</td>\n",
       "      <td>0</td>\n",
       "    </tr>\n",
       "    <tr>\n",
       "      <th>1070955</th>\n",
       "      <td>59.166.0.1</td>\n",
       "      <td>4951</td>\n",
       "      <td>149.171.126.9</td>\n",
       "      <td>21</td>\n",
       "      <td>114</td>\n",
       "      <td>5</td>\n",
       "      <td>0.807553</td>\n",
       "      <td>2934</td>\n",
       "      <td>3740</td>\n",
       "      <td>31</td>\n",
       "      <td>...</td>\n",
       "      <td>1</td>\n",
       "      <td>1</td>\n",
       "      <td>2</td>\n",
       "      <td>5</td>\n",
       "      <td>2</td>\n",
       "      <td>1</td>\n",
       "      <td>1</td>\n",
       "      <td>2</td>\n",
       "      <td>normal</td>\n",
       "      <td>0</td>\n",
       "    </tr>\n",
       "    <tr>\n",
       "      <th>863423</th>\n",
       "      <td>59.166.0.9</td>\n",
       "      <td>11505</td>\n",
       "      <td>149.171.126.3</td>\n",
       "      <td>6881</td>\n",
       "      <td>114</td>\n",
       "      <td>5</td>\n",
       "      <td>0.018598</td>\n",
       "      <td>1540</td>\n",
       "      <td>1644</td>\n",
       "      <td>31</td>\n",
       "      <td>...</td>\n",
       "      <td>0</td>\n",
       "      <td>8</td>\n",
       "      <td>8</td>\n",
       "      <td>10</td>\n",
       "      <td>10</td>\n",
       "      <td>6</td>\n",
       "      <td>1</td>\n",
       "      <td>7</td>\n",
       "      <td>normal</td>\n",
       "      <td>0</td>\n",
       "    </tr>\n",
       "  </tbody>\n",
       "</table>\n",
       "<p>5 rows × 49 columns</p>\n",
       "</div>"
      ],
      "text/plain": [
       "Name              srcip  sport           dstip dsport  proto  state       dur  \\\n",
       "81030      175.45.176.0   5060  149.171.126.18   4569    120      6  0.100437   \n",
       "1969394  149.171.126.15   1043    175.45.176.3     53    120      6  0.000008   \n",
       "541834       59.166.0.8  15265   149.171.126.8  13292    114      5  0.014842   \n",
       "1070955      59.166.0.1   4951   149.171.126.9     21    114      5  0.807553   \n",
       "863423       59.166.0.9  11505   149.171.126.3   6881    114      5  0.018598   \n",
       "\n",
       "Name     sbytes  dbytes  sttl  ...  ct_ftp_cmd  ct_srv_src  ct_srv_dst  \\\n",
       "81030       178       0   254  ...           0           2           2   \n",
       "1969394     264       0    60  ...           0          20          20   \n",
       "541834     2542   23122    31  ...           0          18           6   \n",
       "1070955    2934    3740    31  ...           1           1           2   \n",
       "863423     1540    1644    31  ...           0           8           8   \n",
       "\n",
       "Name     ct_dst_ltm  ct_src_ltm  ct_src_dport_ltm  ct_dst_sport_ltm  \\\n",
       "81030             1           1                 1                 1   \n",
       "1969394          16          16                16                 8   \n",
       "541834            3           4                 1                 1   \n",
       "1070955           5           2                 1                 1   \n",
       "863423           10          10                 6                 1   \n",
       "\n",
       "Name     ct_dst_src_ltm  attack_cat  label  \n",
       "81030                 1      normal      0  \n",
       "1969394              20      normal      0  \n",
       "541834                1      normal      0  \n",
       "1070955               2      normal      0  \n",
       "863423                7      normal      0  \n",
       "\n",
       "[5 rows x 49 columns]"
      ]
     },
     "execution_count": 32,
     "metadata": {},
     "output_type": "execute_result"
    }
   ],
   "source": [
    "train.head()"
   ]
  },
  {
   "cell_type": "code",
   "execution_count": 33,
   "id": "0cf66d37-29f4-465a-93ee-91a488c933e2",
   "metadata": {},
   "outputs": [
    {
     "data": {
      "image/png": "[encoded data removed]",
      "text/plain": [
       "<Figure size 800x600 with 2 Axes>"
      ]
     },
     "metadata": {},
     "output_type": "display_data"
    }
   ],
   "source": [
    "num_col = list(train.select_dtypes(include='number').columns) # creates a list of numerical data excluding the previous categorical columns\n",
    "num_col.remove('proto')\n",
    "num_col.remove('state')\n",
    "num_col.remove('service')\n",
    "\n",
    "train_matrix = train[num_col].corr()\n",
    "plt.figure(figsize=(8,6))\n",
    "sns.heatmap(train_matrix, cmap='magma', annot=False) # creates corrleation matrix of numerical data\n",
    "plt.title('Correlation Matrix')\n",
    "plt.show()"
   ]
  },
  {
   "cell_type": "code",
   "execution_count": 34,
   "id": "45c8d538-11ae-4729-850c-295ed94a579f",
   "metadata": {},
   "outputs": [
    {
     "name": "stdout",
     "output_type": "stream",
     "text": [
      "max corr: 0.9999999999746685 , min corr:  -0.9020883590430406\n"
     ]
    },
    {
     "data": {
      "text/plain": [
       "Name            Name            \n",
       "stime           ltime               1.000000\n",
       "swin            dwin                0.999966\n",
       "ct_srv_dst      ct_srv_src          0.999575\n",
       "ct_src_ltm      ct_dst_ltm          0.999240\n",
       "ct_dst_ltm      ct_src_dport_ltm    0.998279\n",
       "                                      ...   \n",
       "swin            ct_src_dport_ltm   -0.887028\n",
       "dwin            ct_dst_sport_ltm   -0.900535\n",
       "swin            ct_dst_sport_ltm   -0.900967\n",
       "ct_dst_src_ltm  dwin               -0.901813\n",
       "                swin               -0.902088\n",
       "Length: 820, dtype: float64"
      ]
     },
     "metadata": {},
     "output_type": "display_data"
    }
   ],
   "source": [
    "threshold = 0.9\n",
    "\n",
    "def high_cor_features(df): # function to find highly correlated features using the correlation matrix\n",
    "    cor = df[num_col].corr()\n",
    "    corrm = np.corrcoef(df.transpose())\n",
    "    corr = corrm - np.diagflat(corrm.diagonal())\n",
    "    print(\"max corr:\",corr.max(), \", min corr: \", corr.min())\n",
    "    c1 = cor.stack().sort_values(ascending=False).drop_duplicates()\n",
    "    high_cor = c1[c1.values!=1]    \n",
    "    thresh = threshold \n",
    "    display(high_cor)\n",
    "\n",
    "high_cor_features(train_matrix[num_col])"
   ]
  },
  {
   "cell_type": "code",
   "execution_count": 35,
   "id": "4d8ce6c8-d561-48d3-b1dd-e9f265177b5c",
   "metadata": {},
   "outputs": [],
   "source": [
    "train.drop(['srcip', 'sport', 'dstip', 'dsport', 'attack_cat'], axis=1, inplace=True) # these columns aren't necessary so removing them\n",
    "train.drop(['sloss', 'dloss', 'dpkts', 'dwin', 'ltime', 'ct_srv_dst', 'ct_src_dport_ltm', 'ct_dst_src_ltm'], axis=1, inplace=True) # removing high correlated features"
   ]
  },
  {
   "cell_type": "code",
   "execution_count": 36,
   "id": "63b57d2d-5c5e-4589-86bd-54901a39bdcc",
   "metadata": {},
   "outputs": [],
   "source": [
    "# creating x and y set from the dataset\n",
    "x_train, y_train = train.drop(columns=['label']), train['label']\n",
    "x_test, y_test = test.drop(columns=['label']), test['label']"
   ]
  },
  {
   "cell_type": "code",
   "execution_count": 37,
   "id": "d35c6ad6-0c30-45f3-adfe-12e31800545f",
   "metadata": {},
   "outputs": [
    {
     "data": {
      "text/plain": [
       "Index(['proto', 'state', 'dur', 'sbytes', 'dbytes', 'sttl', 'dttl', 'service',\n",
       "       'sload', 'dload', 'spkts', 'swin', 'stcpb', 'dtcpb', 'smeansz',\n",
       "       'dmeansz', 'trans_depth', 'res_bdy_len', 'sjit', 'djit', 'stime',\n",
       "       'sintpkt', 'dintpkt', 'tcprtt', 'synack', 'ackdat', 'is_sm_ips_ports',\n",
       "       'ct_state_ttl', 'ct_flw_http_mthd', 'is_ftp_login', 'ct_ftp_cmd',\n",
       "       'ct_srv_src', 'ct_dst_ltm', 'ct_src_ltm', 'ct_dst_sport_ltm'],\n",
       "      dtype='object', name='Name')"
      ]
     },
     "execution_count": 37,
     "metadata": {},
     "output_type": "execute_result"
    }
   ],
   "source": [
    "num_col = x_train.select_dtypes(include='number').columns # finding numerical columns\n",
    "num_col"
   ]
  },
  {
   "cell_type": "code",
   "execution_count": 38,
   "id": "565ac412-c4b0-45f0-9349-912b967ec265",
   "metadata": {},
   "outputs": [
    {
     "data": {
      "text/html": [
       "<div>\n",
       "<style scoped>\n",
       "    .dataframe tbody tr th:only-of-type {\n",
       "        vertical-align: middle;\n",
       "    }\n",
       "\n",
       "    .dataframe tbody tr th {\n",
       "        vertical-align: top;\n",
       "    }\n",
       "\n",
       "    .dataframe thead th {\n",
       "        text-align: right;\n",
       "    }\n",
       "</style>\n",
       "<table border=\"1\" class=\"dataframe\">\n",
       "  <thead>\n",
       "    <tr style=\"text-align: right;\">\n",
       "      <th>Name</th>\n",
       "      <th>proto</th>\n",
       "      <th>state</th>\n",
       "      <th>dur</th>\n",
       "      <th>sbytes</th>\n",
       "      <th>dbytes</th>\n",
       "      <th>sttl</th>\n",
       "      <th>dttl</th>\n",
       "      <th>service</th>\n",
       "      <th>sload</th>\n",
       "      <th>dload</th>\n",
       "      <th>...</th>\n",
       "      <th>ackdat</th>\n",
       "      <th>is_sm_ips_ports</th>\n",
       "      <th>ct_state_ttl</th>\n",
       "      <th>ct_flw_http_mthd</th>\n",
       "      <th>is_ftp_login</th>\n",
       "      <th>ct_ftp_cmd</th>\n",
       "      <th>ct_srv_src</th>\n",
       "      <th>ct_dst_ltm</th>\n",
       "      <th>ct_src_ltm</th>\n",
       "      <th>ct_dst_sport_ltm</th>\n",
       "    </tr>\n",
       "  </thead>\n",
       "  <tbody>\n",
       "    <tr>\n",
       "      <th>81030</th>\n",
       "      <td>0.472205</td>\n",
       "      <td>1.017361</td>\n",
       "      <td>-0.040939</td>\n",
       "      <td>-0.075667</td>\n",
       "      <td>-0.227435</td>\n",
       "      <td>2.561444</td>\n",
       "      <td>-0.717760</td>\n",
       "      <td>0.680873</td>\n",
       "      <td>-0.311536</td>\n",
       "      <td>-0.579909</td>\n",
       "      <td>...</td>\n",
       "      <td>-0.123848</td>\n",
       "      <td>-0.04053</td>\n",
       "      <td>2.541751</td>\n",
       "      <td>-0.198264</td>\n",
       "      <td>-0.132020</td>\n",
       "      <td>-0.111699</td>\n",
       "      <td>-0.665012</td>\n",
       "      <td>-0.666629</td>\n",
       "      <td>-0.719387</td>\n",
       "      <td>-0.419757</td>\n",
       "    </tr>\n",
       "    <tr>\n",
       "      <th>1969394</th>\n",
       "      <td>0.472205</td>\n",
       "      <td>1.017361</td>\n",
       "      <td>-0.048315</td>\n",
       "      <td>-0.074104</td>\n",
       "      <td>-0.227435</td>\n",
       "      <td>-0.037542</td>\n",
       "      <td>-0.717760</td>\n",
       "      <td>-1.278447</td>\n",
       "      <td>0.801004</td>\n",
       "      <td>-0.579909</td>\n",
       "      <td>...</td>\n",
       "      <td>-0.123848</td>\n",
       "      <td>-0.04053</td>\n",
       "      <td>-0.382468</td>\n",
       "      <td>-0.198264</td>\n",
       "      <td>-0.132020</td>\n",
       "      <td>-0.111699</td>\n",
       "      <td>0.996846</td>\n",
       "      <td>1.172325</td>\n",
       "      <td>1.109976</td>\n",
       "      <td>0.714379</td>\n",
       "    </tr>\n",
       "    <tr>\n",
       "      <th>541834</th>\n",
       "      <td>-0.153647</td>\n",
       "      <td>0.317536</td>\n",
       "      <td>-0.047225</td>\n",
       "      <td>-0.032700</td>\n",
       "      <td>-0.083095</td>\n",
       "      <td>-0.426051</td>\n",
       "      <td>-0.041365</td>\n",
       "      <td>0.680873</td>\n",
       "      <td>-0.300363</td>\n",
       "      <td>2.301677</td>\n",
       "      <td>...</td>\n",
       "      <td>-0.118110</td>\n",
       "      <td>-0.04053</td>\n",
       "      <td>-0.382468</td>\n",
       "      <td>-0.198264</td>\n",
       "      <td>-0.132020</td>\n",
       "      <td>-0.111699</td>\n",
       "      <td>0.812195</td>\n",
       "      <td>-0.421435</td>\n",
       "      <td>-0.353515</td>\n",
       "      <td>-0.419757</td>\n",
       "    </tr>\n",
       "    <tr>\n",
       "      <th>1070955</th>\n",
       "      <td>-0.153647</td>\n",
       "      <td>0.317536</td>\n",
       "      <td>0.010996</td>\n",
       "      <td>-0.025576</td>\n",
       "      <td>-0.204088</td>\n",
       "      <td>-0.426051</td>\n",
       "      <td>-0.041365</td>\n",
       "      <td>-0.886583</td>\n",
       "      <td>-0.311386</td>\n",
       "      <td>-0.571296</td>\n",
       "      <td>...</td>\n",
       "      <td>-0.117296</td>\n",
       "      <td>-0.04053</td>\n",
       "      <td>-0.382468</td>\n",
       "      <td>-0.198264</td>\n",
       "      <td>7.574602</td>\n",
       "      <td>5.349858</td>\n",
       "      <td>-0.757337</td>\n",
       "      <td>-0.176241</td>\n",
       "      <td>-0.597430</td>\n",
       "      <td>-0.419757</td>\n",
       "    </tr>\n",
       "    <tr>\n",
       "      <th>863423</th>\n",
       "      <td>-0.153647</td>\n",
       "      <td>0.317536</td>\n",
       "      <td>-0.046950</td>\n",
       "      <td>-0.050912</td>\n",
       "      <td>-0.217172</td>\n",
       "      <td>-0.426051</td>\n",
       "      <td>-0.041365</td>\n",
       "      <td>0.680873</td>\n",
       "      <td>-0.306391</td>\n",
       "      <td>-0.421690</td>\n",
       "      <td>...</td>\n",
       "      <td>-0.118624</td>\n",
       "      <td>-0.04053</td>\n",
       "      <td>-0.382468</td>\n",
       "      <td>-0.198264</td>\n",
       "      <td>-0.132020</td>\n",
       "      <td>-0.111699</td>\n",
       "      <td>-0.111059</td>\n",
       "      <td>0.436744</td>\n",
       "      <td>0.378231</td>\n",
       "      <td>-0.419757</td>\n",
       "    </tr>\n",
       "  </tbody>\n",
       "</table>\n",
       "<p>5 rows × 35 columns</p>\n",
       "</div>"
      ],
      "text/plain": [
       "Name        proto     state       dur    sbytes    dbytes      sttl      dttl  \\\n",
       "81030    0.472205  1.017361 -0.040939 -0.075667 -0.227435  2.561444 -0.717760   \n",
       "1969394  0.472205  1.017361 -0.048315 -0.074104 -0.227435 -0.037542 -0.717760   \n",
       "541834  -0.153647  0.317536 -0.047225 -0.032700 -0.083095 -0.426051 -0.041365   \n",
       "1070955 -0.153647  0.317536  0.010996 -0.025576 -0.204088 -0.426051 -0.041365   \n",
       "863423  -0.153647  0.317536 -0.046950 -0.050912 -0.217172 -0.426051 -0.041365   \n",
       "\n",
       "Name      service     sload     dload  ...    ackdat  is_sm_ips_ports  \\\n",
       "81030    0.680873 -0.311536 -0.579909  ... -0.123848         -0.04053   \n",
       "1969394 -1.278447  0.801004 -0.579909  ... -0.123848         -0.04053   \n",
       "541834   0.680873 -0.300363  2.301677  ... -0.118110         -0.04053   \n",
       "1070955 -0.886583 -0.311386 -0.571296  ... -0.117296         -0.04053   \n",
       "863423   0.680873 -0.306391 -0.421690  ... -0.118624         -0.04053   \n",
       "\n",
       "Name     ct_state_ttl  ct_flw_http_mthd  is_ftp_login  ct_ftp_cmd  ct_srv_src  \\\n",
       "81030        2.541751         -0.198264     -0.132020   -0.111699   -0.665012   \n",
       "1969394     -0.382468         -0.198264     -0.132020   -0.111699    0.996846   \n",
       "541834      -0.382468         -0.198264     -0.132020   -0.111699    0.812195   \n",
       "1070955     -0.382468         -0.198264      7.574602    5.349858   -0.757337   \n",
       "863423      -0.382468         -0.198264     -0.132020   -0.111699   -0.111059   \n",
       "\n",
       "Name     ct_dst_ltm  ct_src_ltm  ct_dst_sport_ltm  \n",
       "81030     -0.666629   -0.719387         -0.419757  \n",
       "1969394    1.172325    1.109976          0.714379  \n",
       "541834    -0.421435   -0.353515         -0.419757  \n",
       "1070955   -0.176241   -0.597430         -0.419757  \n",
       "863423     0.436744    0.378231         -0.419757  \n",
       "\n",
       "[5 rows x 35 columns]"
      ]
     },
     "execution_count": 38,
     "metadata": {},
     "output_type": "execute_result"
    }
   ],
   "source": [
    "scaler = StandardScaler()\n",
    "scaler = scaler.fit(x_train[num_col])\n",
    "x_train[num_col] = scaler.transform(x_train[num_col]) # scaling numerical columns\n",
    "x_train.head()"
   ]
  },
  {
   "cell_type": "code",
   "execution_count": 39,
   "id": "62e9d5a7-e03c-4b85-9734-948eea25ee66",
   "metadata": {},
   "outputs": [
    {
     "data": {
      "text/plain": [
       "(1778032, 35)"
      ]
     },
     "metadata": {},
     "output_type": "display_data"
    },
    {
     "data": {
      "text/plain": [
       "(1778032,)"
      ]
     },
     "metadata": {},
     "output_type": "display_data"
    },
    {
     "data": {
      "text/plain": [
       "(762015, 48)"
      ]
     },
     "metadata": {},
     "output_type": "display_data"
    },
    {
     "data": {
      "text/plain": [
       "(762015,)"
      ]
     },
     "metadata": {},
     "output_type": "display_data"
    }
   ],
   "source": [
    "display(x_train.shape, y_train.shape)\n",
    "display(x_test.shape, y_test.shape)"
   ]
  },
  {
   "cell_type": "code",
   "execution_count": 40,
   "id": "0b6f0f2d-dde7-475c-a2cc-782141baa2a1",
   "metadata": {},
   "outputs": [
    {
     "data": {
      "text/html": [
       "<div>\n",
       "<style scoped>\n",
       "    .dataframe tbody tr th:only-of-type {\n",
       "        vertical-align: middle;\n",
       "    }\n",
       "\n",
       "    .dataframe tbody tr th {\n",
       "        vertical-align: top;\n",
       "    }\n",
       "\n",
       "    .dataframe thead th {\n",
       "        text-align: right;\n",
       "    }\n",
       "</style>\n",
       "<table border=\"1\" class=\"dataframe\">\n",
       "  <thead>\n",
       "    <tr style=\"text-align: right;\">\n",
       "      <th>Name</th>\n",
       "      <th>proto</th>\n",
       "      <th>state</th>\n",
       "      <th>dur</th>\n",
       "      <th>sbytes</th>\n",
       "      <th>dbytes</th>\n",
       "      <th>sttl</th>\n",
       "      <th>dttl</th>\n",
       "      <th>service</th>\n",
       "      <th>sload</th>\n",
       "      <th>dload</th>\n",
       "      <th>...</th>\n",
       "      <th>ackdat</th>\n",
       "      <th>is_sm_ips_ports</th>\n",
       "      <th>ct_state_ttl</th>\n",
       "      <th>ct_flw_http_mthd</th>\n",
       "      <th>is_ftp_login</th>\n",
       "      <th>ct_ftp_cmd</th>\n",
       "      <th>ct_srv_src</th>\n",
       "      <th>ct_dst_ltm</th>\n",
       "      <th>ct_src_ltm</th>\n",
       "      <th>ct_dst_sport_ltm</th>\n",
       "    </tr>\n",
       "  </thead>\n",
       "  <tbody>\n",
       "    <tr>\n",
       "      <th>752174</th>\n",
       "      <td>0.474974</td>\n",
       "      <td>-1.782573</td>\n",
       "      <td>-0.045137</td>\n",
       "      <td>-0.070401</td>\n",
       "      <td>-0.222056</td>\n",
       "      <td>-0.425555</td>\n",
       "      <td>-0.040919</td>\n",
       "      <td>-1.278129</td>\n",
       "      <td>-0.306769</td>\n",
       "      <td>-0.418288</td>\n",
       "      <td>...</td>\n",
       "      <td>-0.114507</td>\n",
       "      <td>-0.041003</td>\n",
       "      <td>-0.381941</td>\n",
       "      <td>-0.196831</td>\n",
       "      <td>-0.132339</td>\n",
       "      <td>-0.111094</td>\n",
       "      <td>-0.665142</td>\n",
       "      <td>-0.543501</td>\n",
       "      <td>-0.475355</td>\n",
       "      <td>-0.420277</td>\n",
       "    </tr>\n",
       "    <tr>\n",
       "      <th>328310</th>\n",
       "      <td>0.474974</td>\n",
       "      <td>-1.782573</td>\n",
       "      <td>-0.045139</td>\n",
       "      <td>-0.070401</td>\n",
       "      <td>-0.222056</td>\n",
       "      <td>-0.425555</td>\n",
       "      <td>-0.040919</td>\n",
       "      <td>-1.278129</td>\n",
       "      <td>-0.306632</td>\n",
       "      <td>-0.413619</td>\n",
       "      <td>...</td>\n",
       "      <td>-0.114507</td>\n",
       "      <td>-0.041003</td>\n",
       "      <td>-0.381941</td>\n",
       "      <td>-0.196831</td>\n",
       "      <td>-0.132339</td>\n",
       "      <td>-0.111094</td>\n",
       "      <td>-0.388633</td>\n",
       "      <td>-0.054157</td>\n",
       "      <td>-0.475355</td>\n",
       "      <td>-0.420277</td>\n",
       "    </tr>\n",
       "    <tr>\n",
       "      <th>1429547</th>\n",
       "      <td>0.474974</td>\n",
       "      <td>1.018138</td>\n",
       "      <td>-0.045208</td>\n",
       "      <td>-0.068419</td>\n",
       "      <td>-0.223147</td>\n",
       "      <td>-0.036669</td>\n",
       "      <td>-0.718553</td>\n",
       "      <td>-1.278129</td>\n",
       "      <td>0.678415</td>\n",
       "      <td>-0.580561</td>\n",
       "      <td>...</td>\n",
       "      <td>-0.114507</td>\n",
       "      <td>-0.041003</td>\n",
       "      <td>-0.381941</td>\n",
       "      <td>-0.196831</td>\n",
       "      <td>-0.132339</td>\n",
       "      <td>-0.111094</td>\n",
       "      <td>2.007773</td>\n",
       "      <td>2.270228</td>\n",
       "      <td>2.201744</td>\n",
       "      <td>3.463277</td>\n",
       "    </tr>\n",
       "    <tr>\n",
       "      <th>528257</th>\n",
       "      <td>-0.157853</td>\n",
       "      <td>0.317960</td>\n",
       "      <td>-0.044858</td>\n",
       "      <td>-0.006989</td>\n",
       "      <td>-0.208096</td>\n",
       "      <td>-0.425555</td>\n",
       "      <td>-0.040919</td>\n",
       "      <td>0.679612</td>\n",
       "      <td>-0.262714</td>\n",
       "      <td>0.276018</td>\n",
       "      <td>...</td>\n",
       "      <td>-0.108495</td>\n",
       "      <td>-0.041003</td>\n",
       "      <td>-0.381941</td>\n",
       "      <td>-0.196831</td>\n",
       "      <td>-0.132339</td>\n",
       "      <td>-0.111094</td>\n",
       "      <td>-0.204294</td>\n",
       "      <td>-0.054157</td>\n",
       "      <td>-0.110296</td>\n",
       "      <td>-0.420277</td>\n",
       "    </tr>\n",
       "    <tr>\n",
       "      <th>1810467</th>\n",
       "      <td>0.474974</td>\n",
       "      <td>-1.782573</td>\n",
       "      <td>-0.045131</td>\n",
       "      <td>-0.070401</td>\n",
       "      <td>-0.222056</td>\n",
       "      <td>-0.425555</td>\n",
       "      <td>-0.040919</td>\n",
       "      <td>-1.278129</td>\n",
       "      <td>-0.307175</td>\n",
       "      <td>-0.432168</td>\n",
       "      <td>...</td>\n",
       "      <td>-0.114507</td>\n",
       "      <td>-0.041003</td>\n",
       "      <td>-0.381941</td>\n",
       "      <td>-0.196831</td>\n",
       "      <td>-0.132339</td>\n",
       "      <td>-0.111094</td>\n",
       "      <td>-0.572972</td>\n",
       "      <td>-0.665837</td>\n",
       "      <td>-0.597041</td>\n",
       "      <td>-0.420277</td>\n",
       "    </tr>\n",
       "  </tbody>\n",
       "</table>\n",
       "<p>5 rows × 35 columns</p>\n",
       "</div>"
      ],
      "text/plain": [
       "Name        proto     state       dur    sbytes    dbytes      sttl      dttl  \\\n",
       "752174   0.474974 -1.782573 -0.045137 -0.070401 -0.222056 -0.425555 -0.040919   \n",
       "328310   0.474974 -1.782573 -0.045139 -0.070401 -0.222056 -0.425555 -0.040919   \n",
       "1429547  0.474974  1.018138 -0.045208 -0.068419 -0.223147 -0.036669 -0.718553   \n",
       "528257  -0.157853  0.317960 -0.044858 -0.006989 -0.208096 -0.425555 -0.040919   \n",
       "1810467  0.474974 -1.782573 -0.045131 -0.070401 -0.222056 -0.425555 -0.040919   \n",
       "\n",
       "Name      service     sload     dload  ...    ackdat  is_sm_ips_ports  \\\n",
       "752174  -1.278129 -0.306769 -0.418288  ... -0.114507        -0.041003   \n",
       "328310  -1.278129 -0.306632 -0.413619  ... -0.114507        -0.041003   \n",
       "1429547 -1.278129  0.678415 -0.580561  ... -0.114507        -0.041003   \n",
       "528257   0.679612 -0.262714  0.276018  ... -0.108495        -0.041003   \n",
       "1810467 -1.278129 -0.307175 -0.432168  ... -0.114507        -0.041003   \n",
       "\n",
       "Name     ct_state_ttl  ct_flw_http_mthd  is_ftp_login  ct_ftp_cmd  ct_srv_src  \\\n",
       "752174      -0.381941         -0.196831     -0.132339   -0.111094   -0.665142   \n",
       "328310      -0.381941         -0.196831     -0.132339   -0.111094   -0.388633   \n",
       "1429547     -0.381941         -0.196831     -0.132339   -0.111094    2.007773   \n",
       "528257      -0.381941         -0.196831     -0.132339   -0.111094   -0.204294   \n",
       "1810467     -0.381941         -0.196831     -0.132339   -0.111094   -0.572972   \n",
       "\n",
       "Name     ct_dst_ltm  ct_src_ltm  ct_dst_sport_ltm  \n",
       "752174    -0.543501   -0.475355         -0.420277  \n",
       "328310    -0.054157   -0.475355         -0.420277  \n",
       "1429547    2.270228    2.201744          3.463277  \n",
       "528257    -0.054157   -0.110296         -0.420277  \n",
       "1810467   -0.665837   -0.597041         -0.420277  \n",
       "\n",
       "[5 rows x 35 columns]"
      ]
     },
     "execution_count": 40,
     "metadata": {},
     "output_type": "execute_result"
    }
   ],
   "source": [
    "# all the processes that were done on the train dataset needs to be done on the test dataset\n",
    "x_test['ct_flw_http_mthd'] = x_test.ct_flw_http_mthd.fillna(value=0)\n",
    "x_test['is_ftp_login'] = x_test.is_ftp_login.fillna(value=0) \n",
    "x_test['attack_cat'] = x_test.attack_cat.fillna(value='normal')\n",
    "x_test['ct_ftp_cmd'] = x_test['ct_ftp_cmd'].replace(to_replace=' ', value=0).astype(int)\n",
    "x_test['is_ftp_login'] = x_test['is_ftp_login'].replace([2, 4], 1)\n",
    "\n",
    "encoder = LabelEncoder()\n",
    "encoder.fit(x_test['proto'])\n",
    "x_test.proto = encoder.transform(x_test.proto)\n",
    "encoder.fit(x_test['state'])\n",
    "x_test.state = encoder.transform(x_test.state)\n",
    "x_test['service'] = x_test['service'].replace('-', 'none')\n",
    "encoder.fit(x_test['service'])\n",
    "x_test.service = encoder.transform(x_test.service)\n",
    "\n",
    "x_test.drop(['srcip', 'sport', 'dstip', 'dsport', 'attack_cat'], axis=1, inplace=True)\n",
    "x_test.drop(['sloss', 'dloss', 'dpkts', 'dwin', 'ltime', 'ct_srv_dst', 'ct_src_dport_ltm', 'ct_dst_src_ltm'], axis=1, inplace=True)\n",
    "\n",
    "num_col = x_test.select_dtypes(include='number').columns\n",
    "scaler = StandardScaler()\n",
    "scaler = scaler.fit(x_test[num_col])\n",
    "x_test[num_col] = scaler.transform(x_test[num_col])\n",
    "\n",
    "x_test.head()"
   ]
  },
  {
   "cell_type": "code",
   "execution_count": 41,
   "id": "85ad1112-6350-4675-8dc4-6b91498bef8d",
   "metadata": {},
   "outputs": [
    {
     "data": {
      "text/plain": [
       "(1778032, 35)"
      ]
     },
     "metadata": {},
     "output_type": "display_data"
    },
    {
     "data": {
      "text/plain": [
       "(1778032,)"
      ]
     },
     "metadata": {},
     "output_type": "display_data"
    },
    {
     "data": {
      "text/plain": [
       "(762015, 35)"
      ]
     },
     "metadata": {},
     "output_type": "display_data"
    },
    {
     "data": {
      "text/plain": [
       "(762015,)"
      ]
     },
     "metadata": {},
     "output_type": "display_data"
    }
   ],
   "source": [
    "display(x_train.shape, y_train.shape)\n",
    "display(x_test.shape, y_test.shape)"
   ]
  },
  {
   "cell_type": "code",
   "execution_count": 42,
   "id": "82b30646-ea15-4a9d-b98b-d60559c23826",
   "metadata": {},
   "outputs": [
    {
     "data": {
      "text/plain": [
       "True"
      ]
     },
     "execution_count": 42,
     "metadata": {},
     "output_type": "execute_result"
    }
   ],
   "source": [
    "all(x_train.columns == x_test.columns) # checking to see if the amount of columns match"
   ]
  },
  {
   "cell_type": "markdown",
   "id": "1163d99f-42a6-429b-8f21-895122992920",
   "metadata": {},
   "source": [
    "## Random Forest Classifier"
   ]
  },
  {
   "cell_type": "code",
   "execution_count": 212,
   "id": "cb490775-2034-4585-8997-d3d3e5b43e12",
   "metadata": {},
   "outputs": [],
   "source": [
    "start_time = time.time() # initialize start time\n",
    "rf_classifier = RandomForestClassifier(n_estimators=100, random_state=42)\n",
    "rf_classifier.fit(x_train, y_train) # traning model\n",
    "end_time = time.time() # initialize end time"
   ]
  },
  {
   "cell_type": "code",
   "execution_count": 213,
   "id": "d8497ee2-0adc-43bd-a9dd-b3c2b4dc5801",
   "metadata": {},
   "outputs": [],
   "source": [
    "predictions = rf_classifier.predict(x_test) # creating predictions"
   ]
  },
  {
   "cell_type": "code",
   "execution_count": 214,
   "id": "8888ca7f-9ca6-420f-a76b-543bcd132a02",
   "metadata": {},
   "outputs": [
    {
     "name": "stdout",
     "output_type": "stream",
     "text": [
      "Confusion Matrix:\n",
      "[[658292   7610]\n",
      " [   571  95542]]\n",
      "\n",
      "Classification Report:\n",
      "              precision    recall  f1-score   support\n",
      "\n",
      "           0       1.00      0.99      0.99    665902\n",
      "           1       0.93      0.99      0.96     96113\n",
      "\n",
      "    accuracy                           0.99    762015\n",
      "   macro avg       0.96      0.99      0.98    762015\n",
      "weighted avg       0.99      0.99      0.99    762015\n",
      "\n",
      "Accuracy: 0.9892639908663216\n",
      "Recall: 0.9940590762956104\n",
      "Precision: 0.926225376143943\n",
      "F1 score: 0.9589441196396759\n",
      "Training time:  300.6263256072998 seconds\n"
     ]
    }
   ],
   "source": [
    "print(\"Confusion Matrix:\")\n",
    "print(confusion_matrix(y_test, predictions)) # confusion matrix\n",
    "print(\"\\nClassification Report:\")\n",
    "print(classification_report(y_test, predictions)) # classification report\n",
    "print(\"Accuracy:\",metrics.accuracy_score(y_test, predictions)) # accuracy\n",
    "print(\"Recall:\",metrics.recall_score(y_test, predictions)) # recall\n",
    "print(\"Precision:\",metrics.precision_score(y_test, predictions)) # precision\n",
    "print(\"F1 score:\",metrics.f1_score(y_test, predictions)) # f1 score\n",
    "train_time = end_time - start_time # find training time\n",
    "print(\"Training time: \", train_time, \"seconds\")"
   ]
  },
  {
   "cell_type": "code",
   "execution_count": 215,
   "id": "cefbade1-7f0e-432e-82c6-f7d38d851697",
   "metadata": {},
   "outputs": [
    {
     "data": {
      "text/html": [
       "<div>\n",
       "<style scoped>\n",
       "    .dataframe tbody tr th:only-of-type {\n",
       "        vertical-align: middle;\n",
       "    }\n",
       "\n",
       "    .dataframe tbody tr th {\n",
       "        vertical-align: top;\n",
       "    }\n",
       "\n",
       "    .dataframe thead th {\n",
       "        text-align: right;\n",
       "    }\n",
       "</style>\n",
       "<table border=\"1\" class=\"dataframe\">\n",
       "  <thead>\n",
       "    <tr style=\"text-align: right;\">\n",
       "      <th></th>\n",
       "      <th>Actual</th>\n",
       "      <th>Predicted</th>\n",
       "    </tr>\n",
       "  </thead>\n",
       "  <tbody>\n",
       "    <tr>\n",
       "      <th>752174</th>\n",
       "      <td>0</td>\n",
       "      <td>0</td>\n",
       "    </tr>\n",
       "    <tr>\n",
       "      <th>328310</th>\n",
       "      <td>0</td>\n",
       "      <td>0</td>\n",
       "    </tr>\n",
       "    <tr>\n",
       "      <th>1429547</th>\n",
       "      <td>0</td>\n",
       "      <td>0</td>\n",
       "    </tr>\n",
       "    <tr>\n",
       "      <th>528257</th>\n",
       "      <td>0</td>\n",
       "      <td>0</td>\n",
       "    </tr>\n",
       "    <tr>\n",
       "      <th>1810467</th>\n",
       "      <td>0</td>\n",
       "      <td>0</td>\n",
       "    </tr>\n",
       "    <tr>\n",
       "      <th>...</th>\n",
       "      <td>...</td>\n",
       "      <td>...</td>\n",
       "    </tr>\n",
       "    <tr>\n",
       "      <th>1767702</th>\n",
       "      <td>0</td>\n",
       "      <td>0</td>\n",
       "    </tr>\n",
       "    <tr>\n",
       "      <th>1988213</th>\n",
       "      <td>0</td>\n",
       "      <td>0</td>\n",
       "    </tr>\n",
       "    <tr>\n",
       "      <th>2180485</th>\n",
       "      <td>0</td>\n",
       "      <td>0</td>\n",
       "    </tr>\n",
       "    <tr>\n",
       "      <th>1644514</th>\n",
       "      <td>1</td>\n",
       "      <td>1</td>\n",
       "    </tr>\n",
       "    <tr>\n",
       "      <th>2311399</th>\n",
       "      <td>0</td>\n",
       "      <td>0</td>\n",
       "    </tr>\n",
       "  </tbody>\n",
       "</table>\n",
       "<p>762015 rows × 2 columns</p>\n",
       "</div>"
      ],
      "text/plain": [
       "         Actual  Predicted\n",
       "752174        0          0\n",
       "328310        0          0\n",
       "1429547       0          0\n",
       "528257        0          0\n",
       "1810467       0          0\n",
       "...         ...        ...\n",
       "1767702       0          0\n",
       "1988213       0          0\n",
       "2180485       0          0\n",
       "1644514       1          1\n",
       "2311399       0          0\n",
       "\n",
       "[762015 rows x 2 columns]"
      ]
     },
     "execution_count": 215,
     "metadata": {},
     "output_type": "execute_result"
    }
   ],
   "source": [
    "df_result = pd.DataFrame({'Actual': y_test, 'Predicted': predictions})\n",
    "df_result"
   ]
  },
  {
   "cell_type": "code",
   "execution_count": 216,
   "id": "8a405bbe-b61c-4458-b7ca-7ff8d8a8a4d5",
   "metadata": {},
   "outputs": [
    {
     "data": {
      "image/png": "[encoded data removed]",
      "text/plain": [
       "<Figure size 640x480 with 1 Axes>"
      ]
     },
     "metadata": {},
     "output_type": "display_data"
    }
   ],
   "source": [
    "fpr, tpr, thresholds = roc_curve(y_test, predictions) # calculate roc metrics\n",
    "roc_auc = auc(fpr, tpr)\n",
    "\n",
    "plt.figure() # plot roc curve\n",
    "plt.plot(fpr, tpr, color='darkorange', lw=2, label='ROC curve (area = %0.2f)' % roc_auc)\n",
    "plt.plot([0, 1], [0, 1], color='navy', lw=2, linestyle='--')\n",
    "plt.xlim([0.0, 1.0])\n",
    "plt.ylim([0.0, 1.05])\n",
    "plt.xlabel('False Positive Rate')\n",
    "plt.ylabel('True Positive Rate')\n",
    "plt.title('Receiver Operating Characteristic (ROC) Curve')\n",
    "plt.legend(loc='lower right')\n",
    "plt.show()"
   ]
  },
  {
   "cell_type": "markdown",
   "id": "0d9e43a3-71a5-4a30-b67a-827ff42c6333",
   "metadata": {},
   "source": [
    "## Logistic Regression"
   ]
  },
  {
   "cell_type": "code",
   "execution_count": 217,
   "id": "03783f2f-70d4-456d-a3e8-86f01e4db867",
   "metadata": {},
   "outputs": [],
   "source": [
    "start_time = time.time()\n",
    "logistic_regression = LogisticRegression()\n",
    "logistic_regression.fit(x_train, y_train) # training model\n",
    "end_time = time.time()"
   ]
  },
  {
   "cell_type": "code",
   "execution_count": 218,
   "id": "90339687-2781-4cc3-b97a-3f0efde56c0b",
   "metadata": {},
   "outputs": [],
   "source": [
    "predictions = logistic_regression.predict(x_test) # creating predictions"
   ]
  },
  {
   "cell_type": "code",
   "execution_count": 219,
   "id": "4d6554c6-1ad1-4618-93b9-555fed474009",
   "metadata": {},
   "outputs": [
    {
     "name": "stdout",
     "output_type": "stream",
     "text": [
      "Confusion Matrix:\n",
      "[[657807   8095]\n",
      " [  2268  93845]]\n",
      "\n",
      "Classification Report:\n",
      "              precision    recall  f1-score   support\n",
      "\n",
      "           0       1.00      0.99      0.99    665902\n",
      "           1       0.92      0.98      0.95     96113\n",
      "\n",
      "    accuracy                           0.99    762015\n",
      "   macro avg       0.96      0.98      0.97    762015\n",
      "weighted avg       0.99      0.99      0.99    762015\n",
      "\n",
      "Accuracy: 0.9864005301732905\n",
      "Recall: 0.976402775899202\n",
      "Precision: 0.9205905434569355\n",
      "F1 score: 0.9476756221819412\n",
      "Training time:  12.546411991119385 seconds\n"
     ]
    }
   ],
   "source": [
    "print(\"Confusion Matrix:\")\n",
    "print(confusion_matrix(y_test, predictions)) # confusion matrix\n",
    "print(\"\\nClassification Report:\")\n",
    "print(classification_report(y_test, predictions)) # classification report\n",
    "print(\"Accuracy:\",metrics.accuracy_score(y_test, predictions))\n",
    "print(\"Recall:\",metrics.recall_score(y_test, predictions))\n",
    "print(\"Precision:\",metrics.precision_score(y_test, predictions))\n",
    "print(\"F1 score:\",metrics.f1_score(y_test, predictions))\n",
    "train_time = end_time - start_time # find training time\n",
    "print(\"Training time: \", train_time, \"seconds\")"
   ]
  },
  {
   "cell_type": "code",
   "execution_count": 220,
   "id": "23856185-5c51-4e92-a4fb-f0939f87cb62",
   "metadata": {},
   "outputs": [
    {
     "data": {
      "text/html": [
       "<div>\n",
       "<style scoped>\n",
       "    .dataframe tbody tr th:only-of-type {\n",
       "        vertical-align: middle;\n",
       "    }\n",
       "\n",
       "    .dataframe tbody tr th {\n",
       "        vertical-align: top;\n",
       "    }\n",
       "\n",
       "    .dataframe thead th {\n",
       "        text-align: right;\n",
       "    }\n",
       "</style>\n",
       "<table border=\"1\" class=\"dataframe\">\n",
       "  <thead>\n",
       "    <tr style=\"text-align: right;\">\n",
       "      <th></th>\n",
       "      <th>Actual</th>\n",
       "      <th>Predicted</th>\n",
       "    </tr>\n",
       "  </thead>\n",
       "  <tbody>\n",
       "    <tr>\n",
       "      <th>752174</th>\n",
       "      <td>0</td>\n",
       "      <td>0</td>\n",
       "    </tr>\n",
       "    <tr>\n",
       "      <th>328310</th>\n",
       "      <td>0</td>\n",
       "      <td>0</td>\n",
       "    </tr>\n",
       "    <tr>\n",
       "      <th>1429547</th>\n",
       "      <td>0</td>\n",
       "      <td>0</td>\n",
       "    </tr>\n",
       "    <tr>\n",
       "      <th>528257</th>\n",
       "      <td>0</td>\n",
       "      <td>0</td>\n",
       "    </tr>\n",
       "    <tr>\n",
       "      <th>1810467</th>\n",
       "      <td>0</td>\n",
       "      <td>0</td>\n",
       "    </tr>\n",
       "    <tr>\n",
       "      <th>...</th>\n",
       "      <td>...</td>\n",
       "      <td>...</td>\n",
       "    </tr>\n",
       "    <tr>\n",
       "      <th>1767702</th>\n",
       "      <td>0</td>\n",
       "      <td>0</td>\n",
       "    </tr>\n",
       "    <tr>\n",
       "      <th>1988213</th>\n",
       "      <td>0</td>\n",
       "      <td>0</td>\n",
       "    </tr>\n",
       "    <tr>\n",
       "      <th>2180485</th>\n",
       "      <td>0</td>\n",
       "      <td>0</td>\n",
       "    </tr>\n",
       "    <tr>\n",
       "      <th>1644514</th>\n",
       "      <td>1</td>\n",
       "      <td>1</td>\n",
       "    </tr>\n",
       "    <tr>\n",
       "      <th>2311399</th>\n",
       "      <td>0</td>\n",
       "      <td>0</td>\n",
       "    </tr>\n",
       "  </tbody>\n",
       "</table>\n",
       "<p>762015 rows × 2 columns</p>\n",
       "</div>"
      ],
      "text/plain": [
       "         Actual  Predicted\n",
       "752174        0          0\n",
       "328310        0          0\n",
       "1429547       0          0\n",
       "528257        0          0\n",
       "1810467       0          0\n",
       "...         ...        ...\n",
       "1767702       0          0\n",
       "1988213       0          0\n",
       "2180485       0          0\n",
       "1644514       1          1\n",
       "2311399       0          0\n",
       "\n",
       "[762015 rows x 2 columns]"
      ]
     },
     "execution_count": 220,
     "metadata": {},
     "output_type": "execute_result"
    }
   ],
   "source": [
    "df_result = pd.DataFrame({'Actual': y_test, 'Predicted': predictions})\n",
    "df_result"
   ]
  },
  {
   "cell_type": "code",
   "execution_count": 221,
   "id": "cee9a14a-aaba-4dab-9de0-c3287b0f04a7",
   "metadata": {},
   "outputs": [
    {
     "data": {
      "image/png": "[encoded data removed]",
      "text/plain": [
       "<Figure size 640x480 with 1 Axes>"
      ]
     },
     "metadata": {},
     "output_type": "display_data"
    }
   ],
   "source": [
    "fpr, tpr, thresholds = roc_curve(y_test, predictions) # calculate roc metrics\n",
    "roc_auc = auc(fpr, tpr)\n",
    "\n",
    "plt.figure() # plot roc curve\n",
    "plt.plot(fpr, tpr, color='darkorange', lw=2, label='ROC curve (area = %0.2f)' % roc_auc)\n",
    "plt.plot([0, 1], [0, 1], color='navy', lw=2, linestyle='--')\n",
    "plt.xlim([0.0, 1.0])\n",
    "plt.ylim([0.0, 1.05])\n",
    "plt.xlabel('False Positive Rate')\n",
    "plt.ylabel('True Positive Rate')\n",
    "plt.title('Receiver Operating Characteristic (ROC) Curve')\n",
    "plt.legend(loc='lower right')\n",
    "plt.show()"
   ]
  },
  {
   "cell_type": "markdown",
   "id": "3bed4b2a-6726-4125-8565-aaa5729d2896",
   "metadata": {},
   "source": [
    "## Gradient Boosting Classifier"
   ]
  },
  {
   "cell_type": "code",
   "execution_count": 222,
   "id": "5258d305-f911-49cc-8413-dfbe1861457b",
   "metadata": {},
   "outputs": [],
   "source": [
    "start_time = time.time()\n",
    "gbm_classifier = GradientBoostingClassifier()\n",
    "gbm_classifier.fit(x_train, y_train) # training model\n",
    "end_time = time.time()"
   ]
  },
  {
   "cell_type": "code",
   "execution_count": 223,
   "id": "460d3389-283a-41ca-8186-e6fc5c68ad72",
   "metadata": {},
   "outputs": [],
   "source": [
    "predictions = gbm_classifier.predict(x_test) # creating predictions"
   ]
  },
  {
   "cell_type": "code",
   "execution_count": 224,
   "id": "30f6966d-890b-4337-989e-28583670e9ef",
   "metadata": {},
   "outputs": [
    {
     "name": "stdout",
     "output_type": "stream",
     "text": [
      "Confusion Matrix:\n",
      "[[660718   5184]\n",
      " [  2070  94043]]\n",
      "\n",
      "Classification Report:\n",
      "              precision    recall  f1-score   support\n",
      "\n",
      "           0       1.00      0.99      0.99    665902\n",
      "           1       0.95      0.98      0.96     96113\n",
      "\n",
      "    accuracy                           0.99    762015\n",
      "   macro avg       0.97      0.99      0.98    762015\n",
      "weighted avg       0.99      0.99      0.99    762015\n",
      "\n",
      "Accuracy: 0.9904805023523159\n",
      "Recall: 0.9784628510191129\n",
      "Precision: 0.9477561550787588\n",
      "F1 score: 0.962864748643391\n",
      "Training time:  1092.0795295238495 seconds\n"
     ]
    }
   ],
   "source": [
    "print(\"Confusion Matrix:\")\n",
    "print(confusion_matrix(y_test, predictions)) # confusion matrix\n",
    "print(\"\\nClassification Report:\")\n",
    "print(classification_report(y_test, predictions)) # classification report\n",
    "print(\"Accuracy:\",metrics.accuracy_score(y_test, predictions))\n",
    "print(\"Recall:\",metrics.recall_score(y_test, predictions))\n",
    "print(\"Precision:\",metrics.precision_score(y_test, predictions))\n",
    "print(\"F1 score:\",metrics.f1_score(y_test, predictions))\n",
    "train_time = end_time - start_time # find training time\n",
    "print(\"Training time: \", train_time, \"seconds\")"
   ]
  },
  {
   "cell_type": "code",
   "execution_count": 225,
   "id": "fa0ad299-bf2d-41f3-8cb2-4290fe4f641c",
   "metadata": {},
   "outputs": [
    {
     "data": {
      "text/html": [
       "<div>\n",
       "<style scoped>\n",
       "    .dataframe tbody tr th:only-of-type {\n",
       "        vertical-align: middle;\n",
       "    }\n",
       "\n",
       "    .dataframe tbody tr th {\n",
       "        vertical-align: top;\n",
       "    }\n",
       "\n",
       "    .dataframe thead th {\n",
       "        text-align: right;\n",
       "    }\n",
       "</style>\n",
       "<table border=\"1\" class=\"dataframe\">\n",
       "  <thead>\n",
       "    <tr style=\"text-align: right;\">\n",
       "      <th></th>\n",
       "      <th>Actual</th>\n",
       "      <th>Predicted</th>\n",
       "    </tr>\n",
       "  </thead>\n",
       "  <tbody>\n",
       "    <tr>\n",
       "      <th>752174</th>\n",
       "      <td>0</td>\n",
       "      <td>0</td>\n",
       "    </tr>\n",
       "    <tr>\n",
       "      <th>328310</th>\n",
       "      <td>0</td>\n",
       "      <td>0</td>\n",
       "    </tr>\n",
       "    <tr>\n",
       "      <th>1429547</th>\n",
       "      <td>0</td>\n",
       "      <td>0</td>\n",
       "    </tr>\n",
       "    <tr>\n",
       "      <th>528257</th>\n",
       "      <td>0</td>\n",
       "      <td>0</td>\n",
       "    </tr>\n",
       "    <tr>\n",
       "      <th>1810467</th>\n",
       "      <td>0</td>\n",
       "      <td>0</td>\n",
       "    </tr>\n",
       "    <tr>\n",
       "      <th>...</th>\n",
       "      <td>...</td>\n",
       "      <td>...</td>\n",
       "    </tr>\n",
       "    <tr>\n",
       "      <th>1767702</th>\n",
       "      <td>0</td>\n",
       "      <td>0</td>\n",
       "    </tr>\n",
       "    <tr>\n",
       "      <th>1988213</th>\n",
       "      <td>0</td>\n",
       "      <td>0</td>\n",
       "    </tr>\n",
       "    <tr>\n",
       "      <th>2180485</th>\n",
       "      <td>0</td>\n",
       "      <td>0</td>\n",
       "    </tr>\n",
       "    <tr>\n",
       "      <th>1644514</th>\n",
       "      <td>1</td>\n",
       "      <td>1</td>\n",
       "    </tr>\n",
       "    <tr>\n",
       "      <th>2311399</th>\n",
       "      <td>0</td>\n",
       "      <td>0</td>\n",
       "    </tr>\n",
       "  </tbody>\n",
       "</table>\n",
       "<p>762015 rows × 2 columns</p>\n",
       "</div>"
      ],
      "text/plain": [
       "         Actual  Predicted\n",
       "752174        0          0\n",
       "328310        0          0\n",
       "1429547       0          0\n",
       "528257        0          0\n",
       "1810467       0          0\n",
       "...         ...        ...\n",
       "1767702       0          0\n",
       "1988213       0          0\n",
       "2180485       0          0\n",
       "1644514       1          1\n",
       "2311399       0          0\n",
       "\n",
       "[762015 rows x 2 columns]"
      ]
     },
     "execution_count": 225,
     "metadata": {},
     "output_type": "execute_result"
    }
   ],
   "source": [
    "df_result = pd.DataFrame({'Actual': y_test, 'Predicted': predictions})\n",
    "df_result"
   ]
  },
  {
   "cell_type": "code",
   "execution_count": 226,
   "id": "b3e6fc0a-5cc6-413a-bb32-3fac5bb7f825",
   "metadata": {},
   "outputs": [
    {
     "data": {
      "image/png": "[encoded data removed]",
      "text/plain": [
       "<Figure size 640x480 with 1 Axes>"
      ]
     },
     "metadata": {},
     "output_type": "display_data"
    }
   ],
   "source": [
    "fpr, tpr, thresholds = roc_curve(y_test, predictions) # calculate roc metrics\n",
    "roc_auc = auc(fpr, tpr)\n",
    "\n",
    "plt.figure() # plot roc curve\n",
    "plt.plot(fpr, tpr, color='darkorange', lw=2, label='ROC curve (area = %0.2f)' % roc_auc)\n",
    "plt.plot([0, 1], [0, 1], color='navy', lw=2, linestyle='--')\n",
    "plt.xlim([0.0, 1.0])\n",
    "plt.ylim([0.0, 1.05])\n",
    "plt.xlabel('False Positive Rate')\n",
    "plt.ylabel('True Positive Rate')\n",
    "plt.title('Receiver Operating Characteristic (ROC) Curve')\n",
    "plt.legend(loc='lower right')\n",
    "plt.show()"
   ]
  },
  {
   "cell_type": "markdown",
   "id": "0caebabd-eff0-4a86-af44-45309d365183",
   "metadata": {},
   "source": [
    "## Naive Bayes"
   ]
  },
  {
   "cell_type": "code",
   "execution_count": 227,
   "id": "80f49550-34c5-4a1f-ae56-8f43cd0cc281",
   "metadata": {},
   "outputs": [],
   "source": [
    "start_time = time.time()\n",
    "nb_classifier = GaussianNB()\n",
    "nb_classifier.fit(x_train, y_train)\n",
    "end_time = time.time()"
   ]
  },
  {
   "cell_type": "code",
   "execution_count": 228,
   "id": "956c4718-0259-4b77-93bf-c4510b202a38",
   "metadata": {},
   "outputs": [],
   "source": [
    "predictions = nb_classifier.predict(x_test) # creating predictions"
   ]
  },
  {
   "cell_type": "code",
   "execution_count": 229,
   "id": "9ac5d6a3-e425-4e30-bb57-eabe36b56c47",
   "metadata": {},
   "outputs": [
    {
     "name": "stdout",
     "output_type": "stream",
     "text": [
      "Confusion Matrix:\n",
      "[[664039   1863]\n",
      " [ 93364   2749]]\n",
      "\n",
      "Classification Report:\n",
      "              precision    recall  f1-score   support\n",
      "\n",
      "           0       0.88      1.00      0.93    665902\n",
      "           1       0.60      0.03      0.05     96113\n",
      "\n",
      "    accuracy                           0.88    762015\n",
      "   macro avg       0.74      0.51      0.49    762015\n",
      "weighted avg       0.84      0.88      0.82    762015\n",
      "\n",
      "Accuracy: 0.8750326437143626\n",
      "Recall: 0.028601750023409943\n",
      "Precision: 0.5960537727666956\n",
      "F1 score: 0.05458426408538099\n",
      "Training time:  1.3710591793060303 seconds\n"
     ]
    }
   ],
   "source": [
    "print(\"Confusion Matrix:\")\n",
    "print(confusion_matrix(y_test, predictions)) # confusion matrix\n",
    "print(\"\\nClassification Report:\")\n",
    "print(classification_report(y_test, predictions)) # classification report\n",
    "print(\"Accuracy:\",metrics.accuracy_score(y_test, predictions))\n",
    "print(\"Recall:\",metrics.recall_score(y_test, predictions))\n",
    "print(\"Precision:\",metrics.precision_score(y_test, predictions))\n",
    "print(\"F1 score:\",metrics.f1_score(y_test, predictions))\n",
    "train_time = end_time - start_time # find training time\n",
    "print(\"Training time: \", train_time, \"seconds\")"
   ]
  },
  {
   "cell_type": "code",
   "execution_count": 230,
   "id": "cd51679d-8161-43d7-ade4-8ede279b3ecb",
   "metadata": {},
   "outputs": [
    {
     "data": {
      "text/html": [
       "<div>\n",
       "<style scoped>\n",
       "    .dataframe tbody tr th:only-of-type {\n",
       "        vertical-align: middle;\n",
       "    }\n",
       "\n",
       "    .dataframe tbody tr th {\n",
       "        vertical-align: top;\n",
       "    }\n",
       "\n",
       "    .dataframe thead th {\n",
       "        text-align: right;\n",
       "    }\n",
       "</style>\n",
       "<table border=\"1\" class=\"dataframe\">\n",
       "  <thead>\n",
       "    <tr style=\"text-align: right;\">\n",
       "      <th></th>\n",
       "      <th>Actual</th>\n",
       "      <th>Predicted</th>\n",
       "    </tr>\n",
       "  </thead>\n",
       "  <tbody>\n",
       "    <tr>\n",
       "      <th>752174</th>\n",
       "      <td>0</td>\n",
       "      <td>0</td>\n",
       "    </tr>\n",
       "    <tr>\n",
       "      <th>328310</th>\n",
       "      <td>0</td>\n",
       "      <td>0</td>\n",
       "    </tr>\n",
       "    <tr>\n",
       "      <th>1429547</th>\n",
       "      <td>0</td>\n",
       "      <td>0</td>\n",
       "    </tr>\n",
       "    <tr>\n",
       "      <th>528257</th>\n",
       "      <td>0</td>\n",
       "      <td>0</td>\n",
       "    </tr>\n",
       "    <tr>\n",
       "      <th>1810467</th>\n",
       "      <td>0</td>\n",
       "      <td>0</td>\n",
       "    </tr>\n",
       "    <tr>\n",
       "      <th>...</th>\n",
       "      <td>...</td>\n",
       "      <td>...</td>\n",
       "    </tr>\n",
       "    <tr>\n",
       "      <th>1767702</th>\n",
       "      <td>0</td>\n",
       "      <td>0</td>\n",
       "    </tr>\n",
       "    <tr>\n",
       "      <th>1988213</th>\n",
       "      <td>0</td>\n",
       "      <td>0</td>\n",
       "    </tr>\n",
       "    <tr>\n",
       "      <th>2180485</th>\n",
       "      <td>0</td>\n",
       "      <td>0</td>\n",
       "    </tr>\n",
       "    <tr>\n",
       "      <th>1644514</th>\n",
       "      <td>1</td>\n",
       "      <td>0</td>\n",
       "    </tr>\n",
       "    <tr>\n",
       "      <th>2311399</th>\n",
       "      <td>0</td>\n",
       "      <td>0</td>\n",
       "    </tr>\n",
       "  </tbody>\n",
       "</table>\n",
       "<p>762015 rows × 2 columns</p>\n",
       "</div>"
      ],
      "text/plain": [
       "         Actual  Predicted\n",
       "752174        0          0\n",
       "328310        0          0\n",
       "1429547       0          0\n",
       "528257        0          0\n",
       "1810467       0          0\n",
       "...         ...        ...\n",
       "1767702       0          0\n",
       "1988213       0          0\n",
       "2180485       0          0\n",
       "1644514       1          0\n",
       "2311399       0          0\n",
       "\n",
       "[762015 rows x 2 columns]"
      ]
     },
     "execution_count": 230,
     "metadata": {},
     "output_type": "execute_result"
    }
   ],
   "source": [
    "df_result = pd.DataFrame({'Actual': y_test, 'Predicted': predictions})\n",
    "df_result"
   ]
  },
  {
   "cell_type": "code",
   "execution_count": 231,
   "id": "bbd5aee3-70c9-41c7-b087-b51118ce89b3",
   "metadata": {},
   "outputs": [
    {
     "data": {
      "image/png": "[encoded data removed]",
      "text/plain": [
       "<Figure size 640x480 with 1 Axes>"
      ]
     },
     "metadata": {},
     "output_type": "display_data"
    }
   ],
   "source": [
    "fpr, tpr, thresholds = roc_curve(y_test, predictions) # calculate roc metrics\n",
    "roc_auc = auc(fpr, tpr)\n",
    "\n",
    "plt.figure() # plot roc curve\n",
    "plt.plot(fpr, tpr, color='darkorange', lw=2, label='ROC curve (area = %0.2f)' % roc_auc)\n",
    "plt.plot([0, 1], [0, 1], color='navy', lw=2, linestyle='--')\n",
    "plt.xlim([0.0, 1.0])\n",
    "plt.ylim([0.0, 1.05])\n",
    "plt.xlabel('False Positive Rate')\n",
    "plt.ylabel('True Positive Rate')\n",
    "plt.title('Receiver Operating Characteristic (ROC) Curve')\n",
    "plt.legend(loc='lower right')\n",
    "plt.show()"
   ]
  },
  {
   "cell_type": "markdown",
   "id": "50acc0a7-956d-4557-a248-37e4051740a1",
   "metadata": {},
   "source": [
    "## Deep learning, neural network approach"
   ]
  },
  {
   "cell_type": "code",
   "execution_count": 232,
   "id": "1fde5407-9caa-4389-bf44-f2d6352dd61e",
   "metadata": {},
   "outputs": [
    {
     "name": "stderr",
     "output_type": "stream",
     "text": [
      "C:\\Users\\joech\\AppData\\Local\\Programs\\Python\\Python311\\Lib\\site-packages\\keras\\src\\layers\\core\\dense.py:86: UserWarning: Do not pass an `input_shape`/`input_dim` argument to a layer. When using Sequential models, prefer using an `Input(shape)` object as the first layer in the model instead.\n",
      "  super().__init__(activity_regularizer=activity_regularizer, **kwargs)\n"
     ]
    },
    {
     "name": "stdout",
     "output_type": "stream",
     "text": [
      "Epoch 1/10\n",
      "\u001b[1m44451/44451\u001b[0m \u001b[32m━━━━━━━━━━━━━━━━━━━━\u001b[0m\u001b[37m\u001b[0m \u001b[1m50s\u001b[0m 1ms/step - accuracy: 0.9876 - loss: 0.0270 - val_accuracy: 0.9903 - val_loss: 0.0181\n",
      "Epoch 2/10\n",
      "\u001b[1m44451/44451\u001b[0m \u001b[32m━━━━━━━━━━━━━━━━━━━━\u001b[0m\u001b[37m\u001b[0m \u001b[1m49s\u001b[0m 1ms/step - accuracy: 0.9902 - loss: 0.0190 - val_accuracy: 0.9906 - val_loss: 0.0174\n",
      "Epoch 3/10\n",
      "\u001b[1m44451/44451\u001b[0m \u001b[32m━━━━━━━━━━━━━━━━━━━━\u001b[0m\u001b[37m\u001b[0m \u001b[1m49s\u001b[0m 1ms/step - accuracy: 0.9905 - loss: 0.0178 - val_accuracy: 0.9910 - val_loss: 0.0186\n",
      "Epoch 4/10\n",
      "\u001b[1m44451/44451\u001b[0m \u001b[32m━━━━━━━━━━━━━━━━━━━━\u001b[0m\u001b[37m\u001b[0m \u001b[1m49s\u001b[0m 1ms/step - accuracy: 0.9909 - loss: 0.0172 - val_accuracy: 0.9904 - val_loss: 0.0185\n",
      "Epoch 5/10\n",
      "\u001b[1m44451/44451\u001b[0m \u001b[32m━━━━━━━━━━━━━━━━━━━━\u001b[0m\u001b[37m\u001b[0m \u001b[1m50s\u001b[0m 1ms/step - accuracy: 0.9909 - loss: 0.0178 - val_accuracy: 0.9913 - val_loss: 0.0171\n",
      "Epoch 6/10\n",
      "\u001b[1m44451/44451\u001b[0m \u001b[32m━━━━━━━━━━━━━━━━━━━━\u001b[0m\u001b[37m\u001b[0m \u001b[1m50s\u001b[0m 1ms/step - accuracy: 0.9910 - loss: 0.0171 - val_accuracy: 0.9915 - val_loss: 0.0167\n",
      "Epoch 7/10\n",
      "\u001b[1m44451/44451\u001b[0m \u001b[32m━━━━━━━━━━━━━━━━━━━━\u001b[0m\u001b[37m\u001b[0m \u001b[1m50s\u001b[0m 1ms/step - accuracy: 0.9912 - loss: 0.0168 - val_accuracy: 0.9914 - val_loss: 0.0170\n",
      "Epoch 8/10\n",
      "\u001b[1m44451/44451\u001b[0m \u001b[32m━━━━━━━━━━━━━━━━━━━━\u001b[0m\u001b[37m\u001b[0m \u001b[1m49s\u001b[0m 1ms/step - accuracy: 0.9912 - loss: 0.0166 - val_accuracy: 0.9913 - val_loss: 0.0180\n",
      "Epoch 9/10\n",
      "\u001b[1m44451/44451\u001b[0m \u001b[32m━━━━━━━━━━━━━━━━━━━━\u001b[0m\u001b[37m\u001b[0m \u001b[1m50s\u001b[0m 1ms/step - accuracy: 0.9911 - loss: 0.0169 - val_accuracy: 0.9915 - val_loss: 0.0171\n",
      "Epoch 10/10\n",
      "\u001b[1m44451/44451\u001b[0m \u001b[32m━━━━━━━━━━━━━━━━━━━━\u001b[0m\u001b[37m\u001b[0m \u001b[1m50s\u001b[0m 1ms/step - accuracy: 0.9913 - loss: 0.0166 - val_accuracy: 0.9915 - val_loss: 0.0167\n",
      "\u001b[1m23813/23813\u001b[0m \u001b[32m━━━━━━━━━━━━━━━━━━━━\u001b[0m\u001b[37m\u001b[0m \u001b[1m19s\u001b[0m 777us/step - accuracy: 0.9910 - loss: 0.0169\n",
      "Accuracy: 0.9912062287330627\n",
      "Training time:  495.12560200691223 seconds\n"
     ]
    }
   ],
   "source": [
    "start_time = time.time()\n",
    "model = Sequential([\n",
    "    Dense(64, activation='relu', input_shape=(x_train.shape[1],)),\n",
    "    Dense(64, activation='relu'),\n",
    "    Dense(1, activation='sigmoid')\n",
    "])\n",
    "\n",
    "model.compile(optimizer='adam', loss='binary_crossentropy', metrics=['accuracy'])\n",
    "\n",
    "history = model.fit(x_train, y_train, epochs=10, batch_size=32, validation_split=0.2)\n",
    "end_time = time.time()\n",
    "\n",
    "accuracy = model.evaluate(x_test, y_test)[1]\n",
    "print(\"Accuracy:\", accuracy)\n",
    "train_time = end_time - start_time # find training time\n",
    "print(\"Training time: \", train_time, \"seconds\")"
   ]
  },
  {
   "cell_type": "code",
   "execution_count": 233,
   "id": "05f7c632-a7ca-4789-a553-ef08296bba73",
   "metadata": {},
   "outputs": [
    {
     "data": {
      "image/png": "[encoded data removed]",
      "text/plain": [
       "<Figure size 640x480 with 1 Axes>"
      ]
     },
     "metadata": {},
     "output_type": "display_data"
    },
    {
     "data": {
      "image/png": "[encoded data removed]",
      "text/plain": [
       "<Figure size 640x480 with 1 Axes>"
      ]
     },
     "metadata": {},
     "output_type": "display_data"
    }
   ],
   "source": [
    "# training and validation accuracy\n",
    "plt.plot(history.history['accuracy'], label='Training Accuracy')\n",
    "plt.plot(history.history['val_accuracy'], label='Validation Accuracy')\n",
    "plt.xlabel('Epoch')\n",
    "plt.ylabel('Accuracy')\n",
    "plt.title('Training and Validation Accuracy')\n",
    "plt.legend()\n",
    "plt.show()\n",
    "\n",
    "# training and validation loss\n",
    "plt.plot(history.history['loss'], label='Training Loss')\n",
    "plt.plot(history.history['val_loss'], label='Validation Loss')\n",
    "plt.xlabel('Epoch')\n",
    "plt.ylabel('Loss')\n",
    "plt.title('Training and Validation Loss')\n",
    "plt.legend()\n",
    "plt.show()"
   ]
  },
  {
   "cell_type": "markdown",
   "id": "aa1470d1-2ddd-4723-b7d0-873a55196813",
   "metadata": {},
   "source": [
    "## Support Vector Machine"
   ]
  },
  {
   "cell_type": "code",
   "execution_count": 43,
   "id": "75be273c-06f1-44aa-8ab0-cef2994c9989",
   "metadata": {},
   "outputs": [],
   "source": [
    "start_time = time.time()\n",
    "svm_classifier = SVC(kernel='rbf')\n",
    "svm_classifier.fit(x_train, y_train)\n",
    "end_time = time.time()"
   ]
  },
  {
   "cell_type": "code",
   "execution_count": 44,
   "id": "ab595865-d39f-447a-b3f3-8aecab3c640a",
   "metadata": {},
   "outputs": [],
   "source": [
    "predictions = svm_classifier.predict(x_test) # creating predictions"
   ]
  },
  {
   "cell_type": "code",
   "execution_count": 45,
   "id": "84c37221-21f7-4c4a-be70-59661410a245",
   "metadata": {},
   "outputs": [
    {
     "name": "stdout",
     "output_type": "stream",
     "text": [
      "Confusion Matrix:\n",
      "[[661118   4784]\n",
      " [  2508  93605]]\n",
      "\n",
      "Classification Report:\n",
      "              precision    recall  f1-score   support\n",
      "\n",
      "           0       1.00      0.99      0.99    665902\n",
      "           1       0.95      0.97      0.96     96113\n",
      "\n",
      "    accuracy                           0.99    762015\n",
      "   macro avg       0.97      0.98      0.98    762015\n",
      "weighted avg       0.99      0.99      0.99    762015\n",
      "\n",
      "Accuracy: 0.990430634567561\n",
      "Recall: 0.9739057151477948\n",
      "Precision: 0.951376678287207\n",
      "F1 score: 0.9625093829369363\n",
      "Training time:  7029.048793077469 seconds\n"
     ]
    }
   ],
   "source": [
    "print(\"Confusion Matrix:\")\n",
    "print(confusion_matrix(y_test, predictions)) # confusion matrix\n",
    "print(\"\\nClassification Report:\")\n",
    "print(classification_report(y_test, predictions)) # classification report\n",
    "print(\"Accuracy:\",metrics.accuracy_score(y_test, predictions))\n",
    "print(\"Recall:\",metrics.recall_score(y_test, predictions))\n",
    "print(\"Precision:\",metrics.precision_score(y_test, predictions))\n",
    "print(\"F1 score:\",metrics.f1_score(y_test, predictions))\n",
    "train_time = end_time - start_time # find training time\n",
    "print(\"Training time: \", train_time, \"seconds\")"
   ]
  },
  {
   "cell_type": "code",
   "execution_count": 46,
   "id": "bbd8e257-fb73-4c38-a12f-0ea47acc7794",
   "metadata": {},
   "outputs": [
    {
     "data": {
      "text/html": [
       "<div>\n",
       "<style scoped>\n",
       "    .dataframe tbody tr th:only-of-type {\n",
       "        vertical-align: middle;\n",
       "    }\n",
       "\n",
       "    .dataframe tbody tr th {\n",
       "        vertical-align: top;\n",
       "    }\n",
       "\n",
       "    .dataframe thead th {\n",
       "        text-align: right;\n",
       "    }\n",
       "</style>\n",
       "<table border=\"1\" class=\"dataframe\">\n",
       "  <thead>\n",
       "    <tr style=\"text-align: right;\">\n",
       "      <th></th>\n",
       "      <th>Actual</th>\n",
       "      <th>Predicted</th>\n",
       "    </tr>\n",
       "  </thead>\n",
       "  <tbody>\n",
       "    <tr>\n",
       "      <th>752174</th>\n",
       "      <td>0</td>\n",
       "      <td>0</td>\n",
       "    </tr>\n",
       "    <tr>\n",
       "      <th>328310</th>\n",
       "      <td>0</td>\n",
       "      <td>0</td>\n",
       "    </tr>\n",
       "    <tr>\n",
       "      <th>1429547</th>\n",
       "      <td>0</td>\n",
       "      <td>0</td>\n",
       "    </tr>\n",
       "    <tr>\n",
       "      <th>528257</th>\n",
       "      <td>0</td>\n",
       "      <td>0</td>\n",
       "    </tr>\n",
       "    <tr>\n",
       "      <th>1810467</th>\n",
       "      <td>0</td>\n",
       "      <td>0</td>\n",
       "    </tr>\n",
       "    <tr>\n",
       "      <th>...</th>\n",
       "      <td>...</td>\n",
       "      <td>...</td>\n",
       "    </tr>\n",
       "    <tr>\n",
       "      <th>1767702</th>\n",
       "      <td>0</td>\n",
       "      <td>0</td>\n",
       "    </tr>\n",
       "    <tr>\n",
       "      <th>1988213</th>\n",
       "      <td>0</td>\n",
       "      <td>0</td>\n",
       "    </tr>\n",
       "    <tr>\n",
       "      <th>2180485</th>\n",
       "      <td>0</td>\n",
       "      <td>0</td>\n",
       "    </tr>\n",
       "    <tr>\n",
       "      <th>1644514</th>\n",
       "      <td>1</td>\n",
       "      <td>1</td>\n",
       "    </tr>\n",
       "    <tr>\n",
       "      <th>2311399</th>\n",
       "      <td>0</td>\n",
       "      <td>0</td>\n",
       "    </tr>\n",
       "  </tbody>\n",
       "</table>\n",
       "<p>762015 rows × 2 columns</p>\n",
       "</div>"
      ],
      "text/plain": [
       "         Actual  Predicted\n",
       "752174        0          0\n",
       "328310        0          0\n",
       "1429547       0          0\n",
       "528257        0          0\n",
       "1810467       0          0\n",
       "...         ...        ...\n",
       "1767702       0          0\n",
       "1988213       0          0\n",
       "2180485       0          0\n",
       "1644514       1          1\n",
       "2311399       0          0\n",
       "\n",
       "[762015 rows x 2 columns]"
      ]
     },
     "execution_count": 46,
     "metadata": {},
     "output_type": "execute_result"
    }
   ],
   "source": [
    "df_result = pd.DataFrame({'Actual': y_test, 'Predicted': predictions})\n",
    "df_result"
   ]
  },
  {
   "cell_type": "code",
   "execution_count": 47,
   "id": "bc3e185f-da12-4b89-b894-9a9013633011",
   "metadata": {},
   "outputs": [
    {
     "data": {
      "image/png": "[encoded data removed]",
      "text/plain": [
       "<Figure size 640x480 with 1 Axes>"
      ]
     },
     "metadata": {},
     "output_type": "display_data"
    }
   ],
   "source": [
    "fpr, tpr, thresholds = roc_curve(y_test, predictions) # calculate roc metrics\n",
    "roc_auc = auc(fpr, tpr)\n",
    "\n",
    "plt.figure() # plot roc curve\n",
    "plt.plot(fpr, tpr, color='darkorange', lw=2, label='ROC curve (area = %0.2f)' % roc_auc)\n",
    "plt.plot([0, 1], [0, 1], color='navy', lw=2, linestyle='--')\n",
    "plt.xlim([0.0, 1.0])\n",
    "plt.ylim([0.0, 1.05])\n",
    "plt.xlabel('False Positive Rate')\n",
    "plt.ylabel('True Positive Rate')\n",
    "plt.title('Receiver Operating Characteristic (ROC) Curve')\n",
    "plt.legend(loc='lower right')\n",
    "plt.show()"
   ]
  },
  {
   "cell_type": "code",
   "execution_count": null,
   "id": "db4b4839-a2c6-4a69-ad81-e0a0516afef0",
   "metadata": {},
   "outputs": [],
   "source": []
  }
 ],
 "metadata": {
  "kernelspec": {
   "display_name": "Python 3 (ipykernel)",
   "language": "python",
   "name": "python3"
  },
  "language_info": {
   "codemirror_mode": {
    "name": "ipython",
    "version": 3
   },
   "file_extension": ".py",
   "mimetype": "text/x-python",
   "name": "python",
   "nbconvert_exporter": "python",
   "pygments_lexer": "ipython3",
   "version": "3.11.4"
  }
 },
 "nbformat": 4,
 "nbformat_minor": 5
}
